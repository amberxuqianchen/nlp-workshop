{
  "cells": [
    {
      "cell_type": "markdown",
      "metadata": {
        "id": "view-in-github",
        "colab_type": "text"
      },
      "source": [
        "<a href=\"https://colab.research.google.com/github/amberxuqianchen/nlp-workshop/blob/main/NLP_Workshop_1_Web_Scraping.ipynb\" target=\"_parent\"><img src=\"https://colab.research.google.com/assets/colab-badge.svg\" alt=\"Open In Colab\"/></a>"
      ]
    },
    {
      "cell_type": "markdown",
      "source": [
        "# Get data from online sources: \n",
        "- scrape it or \n",
        "- through Application Programming Interface (API)\n",
        "\n",
        "# Scrape PBS news webpage\n",
        "\n",
        "Before you do it, check robot.txt:\n",
        "Simply type in your root domain, then add /robots. txt to the end of the URL.\n",
        "\n",
        "In our case, https://psych.ucsb.edu/robots.txt"
      ],
      "metadata": {
        "id": "VG6Qiyvu-WRZ"
      }
    },
    {
      "cell_type": "markdown",
      "source": [
        "## 1st attempt\n",
        "prompt: write a python code to scrape content from https://psych.ucsb.edu/news-events/news, I want the news title, dates, url and the news content"
      ],
      "metadata": {
        "id": "cUNvE9ui9vfG"
      }
    },
    {
      "cell_type": "code",
      "source": [
        "import requests\n",
        "from bs4 import BeautifulSoup\n",
        "\n",
        "url = 'https://psych.ucsb.edu/news-events/news'\n",
        "\n",
        "response = requests.get(url)\n",
        "soup = BeautifulSoup(response.content, 'html.parser')\n",
        "\n",
        "news_items = soup.find_all('div', class_='views-row')\n",
        "\n",
        "for item in news_items:\n",
        "    title = item.find('div', class_='views-field-title').find('a').text.strip()\n",
        "    date = item.find('div', class_='views-field-created').text.strip()\n",
        "    news_url = item.find('div', class_='views-field-title').find('a')['href']\n",
        "    \n",
        "    # Request news article page\n",
        "    news_response = requests.get(news_url)\n",
        "    news_soup = BeautifulSoup(news_response.content, 'html.parser')\n",
        "    \n",
        "    # Extract news content\n",
        "    content = news_soup.find('div', class_='field--name-body').text.strip()\n",
        "    \n",
        "    print(f\"Title: {title}\")\n",
        "    print(f\"Date: {date}\")\n",
        "    print(f\"URL: {news_url}\")\n",
        "    print(f\"Content: {content}\")\n",
        "    print()\n"
      ],
      "metadata": {
        "id": "gL3MM2fq4iSu"
      },
      "execution_count": null,
      "outputs": []
    },
    {
      "cell_type": "markdown",
      "source": [
        "## 2nd attempt\n",
        "prompt 1/2: \n",
        "the date, link and url is like this:\n",
        "<div class=\"all-news-wrap\">\n",
        "<div class=\"fancy-date\"><time datetime=\"00Z\">Jan</time>\n",
        "<time datetime=\"00Z\">25</time>\n",
        "<time datetime=\"00Z\">2023</time>\n",
        " </div>\n",
        "<div>\n",
        "<h3><a href=\"/news-events/news/2023/mentorship-program-access-grads-launched-uc-davis\" hreflang=\"en\">Mentorship Program Access Grads Launched At UC Davis</a></h3><p></p><p><span><span><span><span><span><span>Access Grads, a program pioneered by… <a href=\"/news-events/news/2023/mentorship-program-access-grads-launched-uc-davis\" class=\"views-more-link\">read more</a></span></span></span></span></span></span></p></div>\n",
        "</div>\n",
        "\n",
        "prompt 2/2:\n",
        "in the news_url, I want the news content from this:\n",
        "\n",
        "<div class=\"news__body\"><p><span><span><span><span><span><span>Access Grads, a program pioneered by graduate students in PBS to promote mentoring of undergraduates aimed at helping them become involved in research and successfully navigate the process of applying for graduate school, </span></span></span></span></span></span><span><span><span><span><span><span><span>is pleased to announce a new chapter of their organization at </span></span></span></span></span></span></span><a href=\"https://ucdaccessgrads.wixsite.com/my-site\"><span><span><span><span><span><span><span><span><span>UC Davis</span></span></span></span></span></span></span></span></span></a><span><span><span><span><span><span>! In the future, Access Grads hopes to expand to several other institutions, with the long-term goal of increasing diversity in science, and demystifying the process of applying to graduate school.</span></span></span></span></span></span></p>\n",
        "\n",
        "<p><span><span><span><span><span><span>Learn more about the UCSB Access Grads program at here at </span></span></span></span></span></span><a href=\"https://accessgrads.wixsite.com/psychology\"><span><span><span><span><span><span><span><span>UCSB</span></span></span></span></span></span></span></span></a><span><span><span><span><span><span> and at </span></span></span></span></span></span><a href=\"https://ucdaccessgrads.wixsite.com/my-site\"><span><span><span><span><span><span><span><span><span>UC Davis</span></span></span></span></span></span></span></span></span></a><span><span><span><span><span><span>.</span></span></span></span></span></span></p></div>"
      ],
      "metadata": {
        "id": "8qgq2X3I97Cv"
      }
    },
    {
      "cell_type": "code",
      "source": [
        "import requests\n",
        "from bs4 import BeautifulSoup\n",
        "\n",
        "url = 'https://psych.ucsb.edu/news-events/news'\n",
        "\n",
        "response = requests.get(url)\n",
        "soup = BeautifulSoup(response.content, 'html.parser')\n",
        "\n",
        "news_items = soup.find_all('div', class_='all-news-wrap')\n",
        "\n",
        "for item in news_items:\n",
        "    date = item.find('div', class_='fancy-date').get_text(separator=' ').strip()\n",
        "    link = item.find('h3').find('a')\n",
        "    title = link.text.strip()\n",
        "    news_url = link['href']\n",
        "    \n",
        "    # Request news article page\n",
        "    news_response = requests.get(news_url)\n",
        "    news_soup = BeautifulSoup(news_response.content, 'html.parser')\n",
        "    \n",
        "    # Extract news content\n",
        "    content = news_soup.find('div', class_='field--name-body').text.strip()\n",
        "    \n",
        "    print(f\"Title: {title}\")\n",
        "    print(f\"Date: {date}\")\n",
        "    print(f\"URL: {news_url}\")\n",
        "    print(f\"Content: {content}\")\n",
        "    print()\n"
      ],
      "metadata": {
        "colab": {
          "base_uri": "https://localhost:8080/",
          "height": 491
        },
        "id": "vS979PAC5CJw",
        "outputId": "3d63a327-85da-4986-916f-95ad2f811f8c"
      },
      "execution_count": null,
      "outputs": [
        {
          "output_type": "error",
          "ename": "MissingSchema",
          "evalue": "ignored",
          "traceback": [
            "\u001b[0;31m---------------------------------------------------------------------------\u001b[0m",
            "\u001b[0;31mMissingSchema\u001b[0m                             Traceback (most recent call last)",
            "\u001b[0;32m<ipython-input-6-e5fc461414fe>\u001b[0m in \u001b[0;36m<module>\u001b[0;34m\u001b[0m\n\u001b[1;32m     16\u001b[0m \u001b[0;34m\u001b[0m\u001b[0m\n\u001b[1;32m     17\u001b[0m     \u001b[0;31m# Request news article page\u001b[0m\u001b[0;34m\u001b[0m\u001b[0;34m\u001b[0m\u001b[0m\n\u001b[0;32m---> 18\u001b[0;31m     \u001b[0mnews_response\u001b[0m \u001b[0;34m=\u001b[0m \u001b[0mrequests\u001b[0m\u001b[0;34m.\u001b[0m\u001b[0mget\u001b[0m\u001b[0;34m(\u001b[0m\u001b[0mnews_url\u001b[0m\u001b[0;34m)\u001b[0m\u001b[0;34m\u001b[0m\u001b[0;34m\u001b[0m\u001b[0m\n\u001b[0m\u001b[1;32m     19\u001b[0m     \u001b[0mnews_soup\u001b[0m \u001b[0;34m=\u001b[0m \u001b[0mBeautifulSoup\u001b[0m\u001b[0;34m(\u001b[0m\u001b[0mnews_response\u001b[0m\u001b[0;34m.\u001b[0m\u001b[0mcontent\u001b[0m\u001b[0;34m,\u001b[0m \u001b[0;34m'html.parser'\u001b[0m\u001b[0;34m)\u001b[0m\u001b[0;34m\u001b[0m\u001b[0;34m\u001b[0m\u001b[0m\n\u001b[1;32m     20\u001b[0m \u001b[0;34m\u001b[0m\u001b[0m\n",
            "\u001b[0;32m/usr/local/lib/python3.9/dist-packages/requests/api.py\u001b[0m in \u001b[0;36mget\u001b[0;34m(url, params, **kwargs)\u001b[0m\n\u001b[1;32m     74\u001b[0m \u001b[0;34m\u001b[0m\u001b[0m\n\u001b[1;32m     75\u001b[0m     \u001b[0mkwargs\u001b[0m\u001b[0;34m.\u001b[0m\u001b[0msetdefault\u001b[0m\u001b[0;34m(\u001b[0m\u001b[0;34m'allow_redirects'\u001b[0m\u001b[0;34m,\u001b[0m \u001b[0;32mTrue\u001b[0m\u001b[0;34m)\u001b[0m\u001b[0;34m\u001b[0m\u001b[0;34m\u001b[0m\u001b[0m\n\u001b[0;32m---> 76\u001b[0;31m     \u001b[0;32mreturn\u001b[0m \u001b[0mrequest\u001b[0m\u001b[0;34m(\u001b[0m\u001b[0;34m'get'\u001b[0m\u001b[0;34m,\u001b[0m \u001b[0murl\u001b[0m\u001b[0;34m,\u001b[0m \u001b[0mparams\u001b[0m\u001b[0;34m=\u001b[0m\u001b[0mparams\u001b[0m\u001b[0;34m,\u001b[0m \u001b[0;34m**\u001b[0m\u001b[0mkwargs\u001b[0m\u001b[0;34m)\u001b[0m\u001b[0;34m\u001b[0m\u001b[0;34m\u001b[0m\u001b[0m\n\u001b[0m\u001b[1;32m     77\u001b[0m \u001b[0;34m\u001b[0m\u001b[0m\n\u001b[1;32m     78\u001b[0m \u001b[0;34m\u001b[0m\u001b[0m\n",
            "\u001b[0;32m/usr/local/lib/python3.9/dist-packages/requests/api.py\u001b[0m in \u001b[0;36mrequest\u001b[0;34m(method, url, **kwargs)\u001b[0m\n\u001b[1;32m     59\u001b[0m     \u001b[0;31m# cases, and look like a memory leak in others.\u001b[0m\u001b[0;34m\u001b[0m\u001b[0;34m\u001b[0m\u001b[0m\n\u001b[1;32m     60\u001b[0m     \u001b[0;32mwith\u001b[0m \u001b[0msessions\u001b[0m\u001b[0;34m.\u001b[0m\u001b[0mSession\u001b[0m\u001b[0;34m(\u001b[0m\u001b[0;34m)\u001b[0m \u001b[0;32mas\u001b[0m \u001b[0msession\u001b[0m\u001b[0;34m:\u001b[0m\u001b[0;34m\u001b[0m\u001b[0;34m\u001b[0m\u001b[0m\n\u001b[0;32m---> 61\u001b[0;31m         \u001b[0;32mreturn\u001b[0m \u001b[0msession\u001b[0m\u001b[0;34m.\u001b[0m\u001b[0mrequest\u001b[0m\u001b[0;34m(\u001b[0m\u001b[0mmethod\u001b[0m\u001b[0;34m=\u001b[0m\u001b[0mmethod\u001b[0m\u001b[0;34m,\u001b[0m \u001b[0murl\u001b[0m\u001b[0;34m=\u001b[0m\u001b[0murl\u001b[0m\u001b[0;34m,\u001b[0m \u001b[0;34m**\u001b[0m\u001b[0mkwargs\u001b[0m\u001b[0;34m)\u001b[0m\u001b[0;34m\u001b[0m\u001b[0;34m\u001b[0m\u001b[0m\n\u001b[0m\u001b[1;32m     62\u001b[0m \u001b[0;34m\u001b[0m\u001b[0m\n\u001b[1;32m     63\u001b[0m \u001b[0;34m\u001b[0m\u001b[0m\n",
            "\u001b[0;32m/usr/local/lib/python3.9/dist-packages/requests/sessions.py\u001b[0m in \u001b[0;36mrequest\u001b[0;34m(self, method, url, params, data, headers, cookies, files, auth, timeout, allow_redirects, proxies, hooks, stream, verify, cert, json)\u001b[0m\n\u001b[1;32m    526\u001b[0m             \u001b[0mhooks\u001b[0m\u001b[0;34m=\u001b[0m\u001b[0mhooks\u001b[0m\u001b[0;34m,\u001b[0m\u001b[0;34m\u001b[0m\u001b[0;34m\u001b[0m\u001b[0m\n\u001b[1;32m    527\u001b[0m         )\n\u001b[0;32m--> 528\u001b[0;31m         \u001b[0mprep\u001b[0m \u001b[0;34m=\u001b[0m \u001b[0mself\u001b[0m\u001b[0;34m.\u001b[0m\u001b[0mprepare_request\u001b[0m\u001b[0;34m(\u001b[0m\u001b[0mreq\u001b[0m\u001b[0;34m)\u001b[0m\u001b[0;34m\u001b[0m\u001b[0;34m\u001b[0m\u001b[0m\n\u001b[0m\u001b[1;32m    529\u001b[0m \u001b[0;34m\u001b[0m\u001b[0m\n\u001b[1;32m    530\u001b[0m         \u001b[0mproxies\u001b[0m \u001b[0;34m=\u001b[0m \u001b[0mproxies\u001b[0m \u001b[0;32mor\u001b[0m \u001b[0;34m{\u001b[0m\u001b[0;34m}\u001b[0m\u001b[0;34m\u001b[0m\u001b[0;34m\u001b[0m\u001b[0m\n",
            "\u001b[0;32m/usr/local/lib/python3.9/dist-packages/requests/sessions.py\u001b[0m in \u001b[0;36mprepare_request\u001b[0;34m(self, request)\u001b[0m\n\u001b[1;32m    454\u001b[0m \u001b[0;34m\u001b[0m\u001b[0m\n\u001b[1;32m    455\u001b[0m         \u001b[0mp\u001b[0m \u001b[0;34m=\u001b[0m \u001b[0mPreparedRequest\u001b[0m\u001b[0;34m(\u001b[0m\u001b[0;34m)\u001b[0m\u001b[0;34m\u001b[0m\u001b[0;34m\u001b[0m\u001b[0m\n\u001b[0;32m--> 456\u001b[0;31m         p.prepare(\n\u001b[0m\u001b[1;32m    457\u001b[0m             \u001b[0mmethod\u001b[0m\u001b[0;34m=\u001b[0m\u001b[0mrequest\u001b[0m\u001b[0;34m.\u001b[0m\u001b[0mmethod\u001b[0m\u001b[0;34m.\u001b[0m\u001b[0mupper\u001b[0m\u001b[0;34m(\u001b[0m\u001b[0;34m)\u001b[0m\u001b[0;34m,\u001b[0m\u001b[0;34m\u001b[0m\u001b[0;34m\u001b[0m\u001b[0m\n\u001b[1;32m    458\u001b[0m             \u001b[0murl\u001b[0m\u001b[0;34m=\u001b[0m\u001b[0mrequest\u001b[0m\u001b[0;34m.\u001b[0m\u001b[0murl\u001b[0m\u001b[0;34m,\u001b[0m\u001b[0;34m\u001b[0m\u001b[0;34m\u001b[0m\u001b[0m\n",
            "\u001b[0;32m/usr/local/lib/python3.9/dist-packages/requests/models.py\u001b[0m in \u001b[0;36mprepare\u001b[0;34m(self, method, url, headers, files, data, params, auth, cookies, hooks, json)\u001b[0m\n\u001b[1;32m    314\u001b[0m \u001b[0;34m\u001b[0m\u001b[0m\n\u001b[1;32m    315\u001b[0m         \u001b[0mself\u001b[0m\u001b[0;34m.\u001b[0m\u001b[0mprepare_method\u001b[0m\u001b[0;34m(\u001b[0m\u001b[0mmethod\u001b[0m\u001b[0;34m)\u001b[0m\u001b[0;34m\u001b[0m\u001b[0;34m\u001b[0m\u001b[0m\n\u001b[0;32m--> 316\u001b[0;31m         \u001b[0mself\u001b[0m\u001b[0;34m.\u001b[0m\u001b[0mprepare_url\u001b[0m\u001b[0;34m(\u001b[0m\u001b[0murl\u001b[0m\u001b[0;34m,\u001b[0m \u001b[0mparams\u001b[0m\u001b[0;34m)\u001b[0m\u001b[0;34m\u001b[0m\u001b[0;34m\u001b[0m\u001b[0m\n\u001b[0m\u001b[1;32m    317\u001b[0m         \u001b[0mself\u001b[0m\u001b[0;34m.\u001b[0m\u001b[0mprepare_headers\u001b[0m\u001b[0;34m(\u001b[0m\u001b[0mheaders\u001b[0m\u001b[0;34m)\u001b[0m\u001b[0;34m\u001b[0m\u001b[0;34m\u001b[0m\u001b[0m\n\u001b[1;32m    318\u001b[0m         \u001b[0mself\u001b[0m\u001b[0;34m.\u001b[0m\u001b[0mprepare_cookies\u001b[0m\u001b[0;34m(\u001b[0m\u001b[0mcookies\u001b[0m\u001b[0;34m)\u001b[0m\u001b[0;34m\u001b[0m\u001b[0;34m\u001b[0m\u001b[0m\n",
            "\u001b[0;32m/usr/local/lib/python3.9/dist-packages/requests/models.py\u001b[0m in \u001b[0;36mprepare_url\u001b[0;34m(self, url, params)\u001b[0m\n\u001b[1;32m    388\u001b[0m             \u001b[0merror\u001b[0m \u001b[0;34m=\u001b[0m \u001b[0merror\u001b[0m\u001b[0;34m.\u001b[0m\u001b[0mformat\u001b[0m\u001b[0;34m(\u001b[0m\u001b[0mto_native_string\u001b[0m\u001b[0;34m(\u001b[0m\u001b[0murl\u001b[0m\u001b[0;34m,\u001b[0m \u001b[0;34m'utf8'\u001b[0m\u001b[0;34m)\u001b[0m\u001b[0;34m)\u001b[0m\u001b[0;34m\u001b[0m\u001b[0;34m\u001b[0m\u001b[0m\n\u001b[1;32m    389\u001b[0m \u001b[0;34m\u001b[0m\u001b[0m\n\u001b[0;32m--> 390\u001b[0;31m             \u001b[0;32mraise\u001b[0m \u001b[0mMissingSchema\u001b[0m\u001b[0;34m(\u001b[0m\u001b[0merror\u001b[0m\u001b[0;34m)\u001b[0m\u001b[0;34m\u001b[0m\u001b[0;34m\u001b[0m\u001b[0m\n\u001b[0m\u001b[1;32m    391\u001b[0m \u001b[0;34m\u001b[0m\u001b[0m\n\u001b[1;32m    392\u001b[0m         \u001b[0;32mif\u001b[0m \u001b[0;32mnot\u001b[0m \u001b[0mhost\u001b[0m\u001b[0;34m:\u001b[0m\u001b[0;34m\u001b[0m\u001b[0;34m\u001b[0m\u001b[0m\n",
            "\u001b[0;31mMissingSchema\u001b[0m: Invalid URL '/news-events/news/2023/pbs-student-elle-murata-give-tedx-talk': No schema supplied. Perhaps you meant http:///news-events/news/2023/pbs-student-elle-murata-give-tedx-talk?"
          ]
        }
      ]
    },
    {
      "cell_type": "code",
      "source": [
        "news_url\n",
        "# https://psych.ucsb.edu/news-events/news/2023/mentorship-program-access-grads-launched-uc-davis"
      ],
      "metadata": {
        "colab": {
          "base_uri": "https://localhost:8080/",
          "height": 35
        },
        "id": "05WqGb6A5301",
        "outputId": "7b3fc469-2a32-41cd-f8b4-cb4720017533"
      },
      "execution_count": null,
      "outputs": [
        {
          "output_type": "execute_result",
          "data": {
            "text/plain": [
              "'/news-events/news/2023/pbs-student-elle-murata-give-tedx-talk'"
            ],
            "application/vnd.google.colaboratory.intrinsic+json": {
              "type": "string"
            }
          },
          "metadata": {},
          "execution_count": 7
        }
      ]
    },
    {
      "cell_type": "markdown",
      "source": [
        "## 3rd attempt: success!\n",
        "prompt: this one works: news_url = f\"https://psych.ucsb.edu{news_url}\", modify the code\n",
        "\n",
        "or tell chatGPT to keep the main domain: \"https://psych.ucsb.edu/\""
      ],
      "metadata": {
        "id": "fOQMJHvi-D9L"
      }
    },
    {
      "cell_type": "code",
      "source": [
        "import requests\n",
        "from bs4 import BeautifulSoup\n",
        "\n",
        "url = 'https://psych.ucsb.edu/news-events/news'\n",
        "\n",
        "response = requests.get(url)\n",
        "soup = BeautifulSoup(response.content, 'html.parser')\n",
        "\n",
        "news_items = soup.find_all('div', class_='all-news-wrap')\n",
        "\n",
        "for item in news_items:\n",
        "    date = item.find('div', class_='fancy-date').get_text(separator=' ').strip()\n",
        "    link = item.find('h3').find('a')\n",
        "    title = link.text.strip()\n",
        "    news_url = link['href']\n",
        "    \n",
        "    # Check if URL has a scheme and add one if missing\n",
        "    if not news_url.startswith('http'):\n",
        "        news_url = f\"https://psych.ucsb.edu{news_url}\"\n",
        "    \n",
        "    # Request news article page\n",
        "    news_response = requests.get(news_url)\n",
        "    news_soup = BeautifulSoup(news_response.content, 'html.parser')\n",
        "    \n",
        "    # Extract news content\n",
        "    content = news_soup.find('div', class_='news__body').text.strip()\n",
        "    \n",
        "    print(f\"Title: {title}\")\n",
        "    print(f\"Date: {date}\")\n",
        "    print(f\"URL: {news_url}\")\n",
        "    print(f\"Content: {content}\")\n",
        "    print()\n"
      ],
      "metadata": {
        "colab": {
          "base_uri": "https://localhost:8080/"
        },
        "id": "dPFZ-ojl7pRR",
        "outputId": "6915241f-58aa-475b-e08e-a3d205584faa"
      },
      "execution_count": null,
      "outputs": [
        {
          "output_type": "stream",
          "name": "stdout",
          "text": [
            "Title: PBS Student Elle Murata To Give TEDx Talk\n",
            "Date: Jan \n",
            " 25 \n",
            " 2023\n",
            "URL: https://psych.ucsb.edu/news-events/news/2023/pbs-student-elle-murata-give-tedx-talk\n",
            "Content: PBS graduate student Elle Murata will give a talk at the 2023 TEDxLagunaBlanca speaker series on February 1. The theme is Metamorphosis. \n",
            "In her talk, \"When the Science Becomes Personal: Tales from a Patient-Researcher\", Murata will share her dual experience as a woman in science and a woman underserved by the biomedical sciences. Elle Murata is a third year PhD candidate in Cognition, Perception and Cognitive  Neuroscience at PBS, where her research examines the impact of sex hormones on the brain. In the Jacobs lab, Elle leverages neuroimaging to interrogate how menopause and reproductive disorders shape neural structure and function. \n",
            "For more information about this exciting event, see here: https://www.tedxlagunablancaschool.com/copy-of-beneath-the-surface-2022\n",
            "\n",
            "Title: Mentorship Program Access Grads Launched At UC Davis\n",
            "Date: Jan \n",
            " 25 \n",
            " 2023\n",
            "URL: https://psych.ucsb.edu/news-events/news/2023/mentorship-program-access-grads-launched-uc-davis\n",
            "Content: Access Grads, a program pioneered by graduate students in PBS to promote mentoring of undergraduates aimed at helping them become involved in research and successfully navigate the process of applying for graduate school, is pleased to announce a new chapter of their organization at UC Davis! In the future, Access Grads hopes to expand to several other institutions, with the long-term goal of increasing diversity in science, and demystifying the process of applying to graduate school.\n",
            "Learn more about the UCSB Access Grads program at here at UCSB and at UC Davis.\n",
            "\n",
            "Title: Prof. Emily Jacobs to lead new Ann S. Bowers Women's Brain Health Initiative at UCSB\n",
            "Date: Jan \n",
            " 17 \n",
            " 2023\n",
            "URL: https://psych.ucsb.edu/news-events/news/2023/prof-emily-jacobs-lead-new-ann-s-bowers-womens-brain-health-initiative-ucsb\n",
            "Content: Associate Professor Emily Jacobs, whose laboratory embraces a multimodal neuroimaging and endocrine approach to studying women’s health, will be leading a multicampus initiative to study the female brain: The Ann S. Bowers Women’s Brain Health Initiative. This project will pool data across several UC brain imaging centers to answer a wide range of critical questions about how reproductive factors (such as the use of hormonal birth control or an irregular menstrual cycle) may shape the brain. Dr. Jacobs highlights the unique potential brought by this initiative: “UC brain imaging centers generate data from thousands of participants annually. By harnessing that power and integrating neuroscience discoveries across campuses, we can usher in a new era of women’s brain health research.”\n",
            "Outside the lab, Dr. Jacobs is also involved with advocacy work aimed at changing women’s representation in STEM. The Jacobs lab regularly partners with K-12 groups in Santa Barbara, and Dr. Jacobs has worked with members of Congress to advocate for sustained federal funding for women’s health research.\n",
            "See more here: https://magazine.ucsb.edu/fall-winter-2022/women-first\n",
            "\n",
            "Title: Professor Heejung Kim Receives Outstanding Contributions to Cultural Psychology Award\n",
            "Date: Jan \n",
            " 10 \n",
            " 2023\n",
            "URL: https://psych.ucsb.edu/news-events/news/2023/professor-heejung-kim-receives-outstanding-contributions-cultural-psychology\n",
            "Content: PBS Professor Heejung Kim has received the 2023 Outstanding Contributions to Cultural Psychology Award from the Society for Personality and Social Psychology Society. This award was established to recognize a scholar (or group of scholars) whose work has added substantially to the body of knowledge in cultural psychology and whose sustained contributions in research, teaching, and/or service have significantly advanced the field. Dr. Kim's UCSB Cultural Psychology Lab examines how culture shapes psychological functioning across a variety of domains, including interpersonal communication, decision making, religion, biology, and acculturation. Dr Kim will receive her award and give an award address at the 2023 SPSP Advances in Cultural Psychology preconference in Atlanta, Georgia on February 23, 2023.\n",
            "\n",
            "Title: PBS Statement on UAW Strike\n",
            "Date: Nov \n",
            " 18 \n",
            " 2022\n",
            "URL: https://psych.ucsb.edu/news-events/news/2022/pbs-statement-uaw-strike\n",
            "Content: The PBS faculty acknowledge the pressures on our graduate students due to the rising gap between the cost of living and student pay. Our graduate students are critical to the research, teaching, and mentoring missions of the department and UCSB and alleviating these pressures is vital to the mission of the department and UCSB.\n",
            "As such, we affirm the right of our student workers to engage in lawful strike activity, which may include picketing, cancellation of sections, or stopping grading. We will not retaliate against our graduate students for their participation or non-participation in lawful strike activities, nor will we inquire about the strike status of any graduate student under our direct supervision. We equally support our graduate students who choose not to participate in strike activities. \n",
            "We remain committed to supporting our student community through teaching, advising, and mentoring. We are hopeful that the university administration and the unions representing our graduate students are successful in good faith negotiations and work urgently and diligently towards an agreement.\n",
            "\n",
            "Title: Emeritus Professor Gerald Jacobs receives Lifetime Achievement Award\n",
            "Date: Nov \n",
            " 2 \n",
            " 2022\n",
            "URL: https://psych.ucsb.edu/news-events/news/2022/emeritus-professor-gerald-jacobs-receives-lifetime-achievement-award\n",
            "Content: Jerry Jacobs has received the 2022 Richard C. Atkinson Lifetime Achievement Award from Indiana University’s Department of Psychological and Brain Sciences.  This award, named to recognize its first recipient, is the most distinguished honor the Department offers.  The citation listed “your internationally recognized contribution to the understanding of the evolution of primate color vision and your extraordinary dedication to teaching and mentoring.  We are especially pleased to recognize your accomplishments because of the deep and enduring impact they have had in our field.”\n",
            "Congratulations Prof. Jerry Jacobs!\n",
            "\n",
            "Title: PBS Faculty Emily Jacobs Named Top 10 Scientist To Watch\n",
            "Date: Oct \n",
            " 17 \n",
            " 2022\n",
            "URL: https://psych.ucsb.edu/news-events/news/2022/pbs-faculty-emily-jacobs-named-top-10-scientist-watch\n",
            "Content: Associate Professor Emily Jacobs was named a Top 10 Scientist to Watch by Science News, in a list featuring early- and mid-career scientists who stand out for their curiosity and drive to solve some of the world’s biggest problems.\n",
            "Dr. Jacobs' research tackles one of those problems: understanding how the brain, an endocrine organ, undergoes changes as a function of the action of hormones. To do so, her laboratory embraces a multimodal approach–including brain imaging, endocrine, and computational approaches–in studies of midlife and menopause, pharmacological studies of gonadal hormone suppression, as well as dense-sampling studies across the menstrual cycle and pregnancy.\n",
            "Nominations for this prestigious list came from individuals identified by Nobel laureates, members of the National Academy of Sciences, prior SN 10 scientists, as well as the wider public. Congratulations, Prof. Jacobs!\n",
            "See here for the complete Science News list: https://www.sciencenews.org/article/sn-10-scientists-to-watch-2022\n",
            "And here to find out more about Prof. Jacobs’ groundbreaking research: https://www.sciencenews.org/article/emily-jacobs-female-brain-sn-10-scientists-to-watch\n",
            "\n",
            "Title: PBS Professor Michael Beyeler Receives $1.5 Million Nih Grant To Develop Bionic Eye\n",
            "Date: Oct \n",
            " 4 \n",
            " 2022\n",
            "URL: https://psych.ucsb.edu/news-events/news/2022/pbs-professor-michael-beyeler-receives-15-million-nih-grant-develop-bionic\n",
            "Content: Good vision is essential for everyday life, but approximately 12 million Americans aged 40 and over live with vision impairment, including 1 million who are legally blind, according to the Centers for Disease Control and Prevention. Although some affected individuals can be treated with surgery or medication, and recent advances in gene and stem cell therapies are showing promise, no effective treatments exist for many people who are blinded by severe degeneration of, or damage to, the retina, the optic nerve or the cortex. In such cases, an electronic visual prosthesis, or bionic eye, may be the only option. Michael Beyeler, Assistant Professor in Psychological and Brain Sciences and Computer Science departments at UCSB, aims to bring to the mainstream an AI-powered bionic eye that can generate artificial vision, in an effort to increase the quality of life for patients who are blind or visually impaired.\n",
            "\n",
            "“I envision a smart bionic eye that could find misplaced keys on a counter, read out medication labels, inform a user about people’s gestures and facial expressions during social interactions, and warn a user of nearby obstacles and outline safe paths,” Michael said.\n",
            "\n",
            "For his project, “Towards a Smart Bionic Eye: AI-Powered Artificial Vision for the Treatment of Incurable Blindness,” Beyeler has been selected for a National Institutes of Health (NIH) Director’s New Innovator Award. The five-year, $1.5 million grant was one of 103 awarded this week by the NIH to enable exceptionally creative early-career scientists to push the boundaries of biomedical science and pursue high-impact projects that aim to advance knowledge and enhance health. Congratulations, Michael!\n",
            "\n",
            "See more info here: https://www.news.ucsb.edu/2022/020732/clear-vision\n",
            "\n",
            "Title: PBS Chair and graduate student Elizabeth Quinn-Jensen receive UC Historically Black Colleges and Universities grant\n",
            "Date: Sep \n",
            " 28 \n",
            " 2022\n",
            "URL: https://psych.ucsb.edu/news-events/news/2022/pbs-chair-and-graduate-student-elizabeth-quinn-jensen-receive-uc-historically\n",
            "Content: Professor Shelly Gable, the PBS chair, together with Elizabeth Quinn-Jensen, a third year Ph.D. student in the social area, were awarded the University of California-Historically Black Colleges & Universities Initiative (UC-HBCU) Grant. This grant will fund an 8-week Summer program designed to provide undergraduates from the Morehouse College in Atlanta, GA, with hands-on research experience in a lab in our PBS Department at UCSB. Interns will receive a stipend, campus housing and a meal plan, and will have the opportunity to choose whether to work in one lab for the duration of the program, or to rotate in two different labs. Program activities will also include seminars, workshops (e.g., in R coding), as well as networking events with UCSB’s faculty and graduate students. Check out this page to find out more about this important initiative and exciting Summer internship program: https://psych.ucsb.edu/phd-program/uc-hbcu-summer-program\n",
            "\n",
            "Title: PBS Faculty Richard Mayer: The most productive educational psychologist\n",
            "Date: Sep \n",
            " 16 \n",
            " 2022\n",
            "URL: https://psych.ucsb.edu/news-events/news/2022/pbs-faculty-richard-mayer-most-productive-educational-psychologist\n",
            "Content: Distinguished UCSB Professor in Psychological and Brain Sciences (PBS) Richard Mayer was the most productive educational psychologist during 2015-2021 according to a recent study published in Educational Psychology Review, which used multiple measures to quantify individual researcher productivity across career stages. Dr. Logan Fiorella, who earned his PhD in PBS under Prof. Mayer’s supervision, was listed as the most productive Early Career educational psychologist. Prof. Mayer, who has sustained contributions to journals of educational psychology for the last three decades—and featured prominently in previously published productivity lists since 1991—directs the Laboratory for Research on Learning and Instruction, which investigates the science of learning and instruction. As of this writing, Prof. Mayer’s research has been cited upwards of 188663 times, yielding a very impressive h-index of 169. Congratulations, Prof. Mayer!\n",
            "\n",
            "Title: PBS Graduate Student Wins Graduate Research Award\n",
            "Date: Aug \n",
            " 24 \n",
            " 2022\n",
            "URL: https://psych.ucsb.edu/news-events/news/2022/pbs-graduate-student-wins-graduate-research-award\n",
            "Content: Elizabeth Quinn-Jensen, a third year Ph.D. student in Social Psychology in the Department of Psychological & Brain Sciences, has received the Jenessa Shapiro Research Award granted by the Society of Personal & Social Psychology (SPSP).\n",
            "\n",
            "SPSP’s Jenessa Shapiro Research Award recognizes graduate students from underrepresented backgrounds who are conducting research in personality and/or social psychology. The award is named in memory of UCLA professor Jenessa Shapiro, who was a strong advocate of promoting diversity and inclusion in her lab, at the university, and in the field of social psychology. This award will support Elizabeth’s research examining the impact of comparison groups on attributions related to discrimination. Elizabeth is co-advised by Drs. Zoe Liberman and Brenda Major, and her line of work seeks to delineate how children and adults understand and respond to social identities, with a focus on perception of individuals with blended identities. Big congratulations, Elizabeth!\n",
            "\n",
            "Title: Prof. Dan Conroy-Beam Awarded UCSB’s Prestigious Harold J Plous Award For Outstanding Research Achievements\n",
            "Date: Aug \n",
            " 11 \n",
            " 2022\n",
            "URL: https://psych.ucsb.edu/news-events/news/2022/prof-dan-conroy-beam-awarded-ucsbs-prestigious-harold-j-plous-award\n",
            "Content: Congratulations to PBS Associate Professor Dan Conroy-Beam, head of the Computational Mate Choice Lab, who was recently announced as the 2022-2023 recipient of the Harold J Plous Award. This award is given annually to “an assistant professor or instructor in the humanities, social sciences or natural sciences who has demonstrated outstanding performance or promise of performance as measured by intellectual and creative contributions to the college community.” Prof. Conroy-Beam will give a public lecture on his unique research on human mate choice in the spring. To read more about Prof. Conroy-Beam’s research, see his lab website and this article in the UCSB Current.\n",
            "\n"
          ]
        }
      ]
    },
    {
      "cell_type": "markdown",
      "source": [
        "## plus save the data!"
      ],
      "metadata": {
        "id": "tNus39S5-LVY"
      }
    },
    {
      "cell_type": "code",
      "source": [
        "import csv\n",
        "import requests\n",
        "from bs4 import BeautifulSoup\n",
        "\n",
        "url = 'https://psych.ucsb.edu/news-events/news'\n",
        "\n",
        "response = requests.get(url)\n",
        "soup = BeautifulSoup(response.content, 'html.parser')\n",
        "\n",
        "news_items = soup.find_all('div', class_='all-news-wrap')\n",
        "\n",
        "with open('psych_news.csv', mode='w', encoding='utf-8', newline='') as file:\n",
        "    writer = csv.writer(file)\n",
        "    writer.writerow(['Title', 'Date', 'URL', 'text'])\n",
        "    \n",
        "    for item in news_items:\n",
        "        date = item.find('div', class_='fancy-date').get_text(separator=' ').strip()\n",
        "        link = item.find('h3').find('a')\n",
        "        title = link.text.strip()\n",
        "        news_url = link['href']\n",
        "        \n",
        "        # Check if URL has a scheme and add one if missing\n",
        "        if not news_url.startswith('http'):\n",
        "            news_url = f\"https://psych.ucsb.edu{news_url}\"\n",
        "        \n",
        "        # Request news article page\n",
        "        news_response = requests.get(news_url)\n",
        "        news_soup = BeautifulSoup(news_response.content, 'html.parser')\n",
        "        \n",
        "        # Extract news content\n",
        "        content = news_soup.find('div', class_='news__body').text.strip()\n",
        "        \n",
        "        writer.writerow([title, date, news_url, content])\n"
      ],
      "metadata": {
        "id": "ssVfKZr78ylB"
      },
      "execution_count": null,
      "outputs": []
    },
    {
      "cell_type": "code",
      "source": [
        "import pandas as pd\n",
        "\n",
        "df = pd.read_csv('psych_news.csv')\n",
        "df"
      ],
      "metadata": {
        "colab": {
          "base_uri": "https://localhost:8080/",
          "height": 426
        },
        "id": "-U2mSrAh9dEv",
        "outputId": "e967d660-ce6e-404b-e116-29484b673e33"
      },
      "execution_count": null,
      "outputs": [
        {
          "output_type": "execute_result",
          "data": {
            "text/plain": [
              "                                                Title               Date  \\\n",
              "0           PBS Student Elle Murata To Give TEDx Talk  Jan \\n 25 \\n 2023   \n",
              "1   Mentorship Program Access Grads Launched At UC...  Jan \\n 25 \\n 2023   \n",
              "2   Prof. Emily Jacobs to lead new Ann S. Bowers W...  Jan \\n 17 \\n 2023   \n",
              "3   Professor Heejung Kim Receives Outstanding Con...  Jan \\n 10 \\n 2023   \n",
              "4                         PBS Statement on UAW Strike  Nov \\n 18 \\n 2022   \n",
              "5   Emeritus Professor Gerald Jacobs receives Life...   Nov \\n 2 \\n 2022   \n",
              "6   PBS Faculty Emily Jacobs Named Top 10 Scientis...  Oct \\n 17 \\n 2022   \n",
              "7   PBS Professor Michael Beyeler Receives $1.5 Mi...   Oct \\n 4 \\n 2022   \n",
              "8   PBS Chair and graduate student Elizabeth Quinn...  Sep \\n 28 \\n 2022   \n",
              "9   PBS Faculty Richard Mayer: The most productive...  Sep \\n 16 \\n 2022   \n",
              "10  PBS Graduate Student Wins Graduate Research Award  Aug \\n 24 \\n 2022   \n",
              "11  Prof. Dan Conroy-Beam Awarded UCSB’s Prestigio...  Aug \\n 11 \\n 2022   \n",
              "\n",
              "                                                  URL  \\\n",
              "0   https://psych.ucsb.edu/news-events/news/2023/p...   \n",
              "1   https://psych.ucsb.edu/news-events/news/2023/m...   \n",
              "2   https://psych.ucsb.edu/news-events/news/2023/p...   \n",
              "3   https://psych.ucsb.edu/news-events/news/2023/p...   \n",
              "4   https://psych.ucsb.edu/news-events/news/2022/p...   \n",
              "5   https://psych.ucsb.edu/news-events/news/2022/e...   \n",
              "6   https://psych.ucsb.edu/news-events/news/2022/p...   \n",
              "7   https://psych.ucsb.edu/news-events/news/2022/p...   \n",
              "8   https://psych.ucsb.edu/news-events/news/2022/p...   \n",
              "9   https://psych.ucsb.edu/news-events/news/2022/p...   \n",
              "10  https://psych.ucsb.edu/news-events/news/2022/p...   \n",
              "11  https://psych.ucsb.edu/news-events/news/2022/p...   \n",
              "\n",
              "                                                 text  \n",
              "0   PBS graduate student Elle Murata will give a t...  \n",
              "1   Access Grads, a program pioneered by graduate ...  \n",
              "2   Associate Professor Emily Jacobs, whose labora...  \n",
              "3   PBS Professor Heejung Kim has received the 202...  \n",
              "4   The PBS faculty acknowledge the pressures on o...  \n",
              "5   Jerry Jacobs has received the 2022 Richard C. ...  \n",
              "6   Associate Professor Emily Jacobs was named a T...  \n",
              "7   Good vision is essential for everyday life, bu...  \n",
              "8   Professor Shelly Gable, the PBS chair, togethe...  \n",
              "9   Distinguished UCSB Professor in Psychological ...  \n",
              "10  Elizabeth Quinn-Jensen, a third year Ph.D. stu...  \n",
              "11  Congratulations to PBS Associate Professor Dan...  "
            ],
            "text/html": [
              "\n",
              "  <div id=\"df-ea1df763-5a97-4330-8d82-21834cde4664\">\n",
              "    <div class=\"colab-df-container\">\n",
              "      <div>\n",
              "<style scoped>\n",
              "    .dataframe tbody tr th:only-of-type {\n",
              "        vertical-align: middle;\n",
              "    }\n",
              "\n",
              "    .dataframe tbody tr th {\n",
              "        vertical-align: top;\n",
              "    }\n",
              "\n",
              "    .dataframe thead th {\n",
              "        text-align: right;\n",
              "    }\n",
              "</style>\n",
              "<table border=\"1\" class=\"dataframe\">\n",
              "  <thead>\n",
              "    <tr style=\"text-align: right;\">\n",
              "      <th></th>\n",
              "      <th>Title</th>\n",
              "      <th>Date</th>\n",
              "      <th>URL</th>\n",
              "      <th>text</th>\n",
              "    </tr>\n",
              "  </thead>\n",
              "  <tbody>\n",
              "    <tr>\n",
              "      <th>0</th>\n",
              "      <td>PBS Student Elle Murata To Give TEDx Talk</td>\n",
              "      <td>Jan \\n 25 \\n 2023</td>\n",
              "      <td>https://psych.ucsb.edu/news-events/news/2023/p...</td>\n",
              "      <td>PBS graduate student Elle Murata will give a t...</td>\n",
              "    </tr>\n",
              "    <tr>\n",
              "      <th>1</th>\n",
              "      <td>Mentorship Program Access Grads Launched At UC...</td>\n",
              "      <td>Jan \\n 25 \\n 2023</td>\n",
              "      <td>https://psych.ucsb.edu/news-events/news/2023/m...</td>\n",
              "      <td>Access Grads, a program pioneered by graduate ...</td>\n",
              "    </tr>\n",
              "    <tr>\n",
              "      <th>2</th>\n",
              "      <td>Prof. Emily Jacobs to lead new Ann S. Bowers W...</td>\n",
              "      <td>Jan \\n 17 \\n 2023</td>\n",
              "      <td>https://psych.ucsb.edu/news-events/news/2023/p...</td>\n",
              "      <td>Associate Professor Emily Jacobs, whose labora...</td>\n",
              "    </tr>\n",
              "    <tr>\n",
              "      <th>3</th>\n",
              "      <td>Professor Heejung Kim Receives Outstanding Con...</td>\n",
              "      <td>Jan \\n 10 \\n 2023</td>\n",
              "      <td>https://psych.ucsb.edu/news-events/news/2023/p...</td>\n",
              "      <td>PBS Professor Heejung Kim has received the 202...</td>\n",
              "    </tr>\n",
              "    <tr>\n",
              "      <th>4</th>\n",
              "      <td>PBS Statement on UAW Strike</td>\n",
              "      <td>Nov \\n 18 \\n 2022</td>\n",
              "      <td>https://psych.ucsb.edu/news-events/news/2022/p...</td>\n",
              "      <td>The PBS faculty acknowledge the pressures on o...</td>\n",
              "    </tr>\n",
              "    <tr>\n",
              "      <th>5</th>\n",
              "      <td>Emeritus Professor Gerald Jacobs receives Life...</td>\n",
              "      <td>Nov \\n 2 \\n 2022</td>\n",
              "      <td>https://psych.ucsb.edu/news-events/news/2022/e...</td>\n",
              "      <td>Jerry Jacobs has received the 2022 Richard C. ...</td>\n",
              "    </tr>\n",
              "    <tr>\n",
              "      <th>6</th>\n",
              "      <td>PBS Faculty Emily Jacobs Named Top 10 Scientis...</td>\n",
              "      <td>Oct \\n 17 \\n 2022</td>\n",
              "      <td>https://psych.ucsb.edu/news-events/news/2022/p...</td>\n",
              "      <td>Associate Professor Emily Jacobs was named a T...</td>\n",
              "    </tr>\n",
              "    <tr>\n",
              "      <th>7</th>\n",
              "      <td>PBS Professor Michael Beyeler Receives $1.5 Mi...</td>\n",
              "      <td>Oct \\n 4 \\n 2022</td>\n",
              "      <td>https://psych.ucsb.edu/news-events/news/2022/p...</td>\n",
              "      <td>Good vision is essential for everyday life, bu...</td>\n",
              "    </tr>\n",
              "    <tr>\n",
              "      <th>8</th>\n",
              "      <td>PBS Chair and graduate student Elizabeth Quinn...</td>\n",
              "      <td>Sep \\n 28 \\n 2022</td>\n",
              "      <td>https://psych.ucsb.edu/news-events/news/2022/p...</td>\n",
              "      <td>Professor Shelly Gable, the PBS chair, togethe...</td>\n",
              "    </tr>\n",
              "    <tr>\n",
              "      <th>9</th>\n",
              "      <td>PBS Faculty Richard Mayer: The most productive...</td>\n",
              "      <td>Sep \\n 16 \\n 2022</td>\n",
              "      <td>https://psych.ucsb.edu/news-events/news/2022/p...</td>\n",
              "      <td>Distinguished UCSB Professor in Psychological ...</td>\n",
              "    </tr>\n",
              "    <tr>\n",
              "      <th>10</th>\n",
              "      <td>PBS Graduate Student Wins Graduate Research Award</td>\n",
              "      <td>Aug \\n 24 \\n 2022</td>\n",
              "      <td>https://psych.ucsb.edu/news-events/news/2022/p...</td>\n",
              "      <td>Elizabeth Quinn-Jensen, a third year Ph.D. stu...</td>\n",
              "    </tr>\n",
              "    <tr>\n",
              "      <th>11</th>\n",
              "      <td>Prof. Dan Conroy-Beam Awarded UCSB’s Prestigio...</td>\n",
              "      <td>Aug \\n 11 \\n 2022</td>\n",
              "      <td>https://psych.ucsb.edu/news-events/news/2022/p...</td>\n",
              "      <td>Congratulations to PBS Associate Professor Dan...</td>\n",
              "    </tr>\n",
              "  </tbody>\n",
              "</table>\n",
              "</div>\n",
              "      <button class=\"colab-df-convert\" onclick=\"convertToInteractive('df-ea1df763-5a97-4330-8d82-21834cde4664')\"\n",
              "              title=\"Convert this dataframe to an interactive table.\"\n",
              "              style=\"display:none;\">\n",
              "        \n",
              "  <svg xmlns=\"http://www.w3.org/2000/svg\" height=\"24px\"viewBox=\"0 0 24 24\"\n",
              "       width=\"24px\">\n",
              "    <path d=\"M0 0h24v24H0V0z\" fill=\"none\"/>\n",
              "    <path d=\"M18.56 5.44l.94 2.06.94-2.06 2.06-.94-2.06-.94-.94-2.06-.94 2.06-2.06.94zm-11 1L8.5 8.5l.94-2.06 2.06-.94-2.06-.94L8.5 2.5l-.94 2.06-2.06.94zm10 10l.94 2.06.94-2.06 2.06-.94-2.06-.94-.94-2.06-.94 2.06-2.06.94z\"/><path d=\"M17.41 7.96l-1.37-1.37c-.4-.4-.92-.59-1.43-.59-.52 0-1.04.2-1.43.59L10.3 9.45l-7.72 7.72c-.78.78-.78 2.05 0 2.83L4 21.41c.39.39.9.59 1.41.59.51 0 1.02-.2 1.41-.59l7.78-7.78 2.81-2.81c.8-.78.8-2.07 0-2.86zM5.41 20L4 18.59l7.72-7.72 1.47 1.35L5.41 20z\"/>\n",
              "  </svg>\n",
              "      </button>\n",
              "      \n",
              "  <style>\n",
              "    .colab-df-container {\n",
              "      display:flex;\n",
              "      flex-wrap:wrap;\n",
              "      gap: 12px;\n",
              "    }\n",
              "\n",
              "    .colab-df-convert {\n",
              "      background-color: #E8F0FE;\n",
              "      border: none;\n",
              "      border-radius: 50%;\n",
              "      cursor: pointer;\n",
              "      display: none;\n",
              "      fill: #1967D2;\n",
              "      height: 32px;\n",
              "      padding: 0 0 0 0;\n",
              "      width: 32px;\n",
              "    }\n",
              "\n",
              "    .colab-df-convert:hover {\n",
              "      background-color: #E2EBFA;\n",
              "      box-shadow: 0px 1px 2px rgba(60, 64, 67, 0.3), 0px 1px 3px 1px rgba(60, 64, 67, 0.15);\n",
              "      fill: #174EA6;\n",
              "    }\n",
              "\n",
              "    [theme=dark] .colab-df-convert {\n",
              "      background-color: #3B4455;\n",
              "      fill: #D2E3FC;\n",
              "    }\n",
              "\n",
              "    [theme=dark] .colab-df-convert:hover {\n",
              "      background-color: #434B5C;\n",
              "      box-shadow: 0px 1px 3px 1px rgba(0, 0, 0, 0.15);\n",
              "      filter: drop-shadow(0px 1px 2px rgba(0, 0, 0, 0.3));\n",
              "      fill: #FFFFFF;\n",
              "    }\n",
              "  </style>\n",
              "\n",
              "      <script>\n",
              "        const buttonEl =\n",
              "          document.querySelector('#df-ea1df763-5a97-4330-8d82-21834cde4664 button.colab-df-convert');\n",
              "        buttonEl.style.display =\n",
              "          google.colab.kernel.accessAllowed ? 'block' : 'none';\n",
              "\n",
              "        async function convertToInteractive(key) {\n",
              "          const element = document.querySelector('#df-ea1df763-5a97-4330-8d82-21834cde4664');\n",
              "          const dataTable =\n",
              "            await google.colab.kernel.invokeFunction('convertToInteractive',\n",
              "                                                     [key], {});\n",
              "          if (!dataTable) return;\n",
              "\n",
              "          const docLinkHtml = 'Like what you see? Visit the ' +\n",
              "            '<a target=\"_blank\" href=https://colab.research.google.com/notebooks/data_table.ipynb>data table notebook</a>'\n",
              "            + ' to learn more about interactive tables.';\n",
              "          element.innerHTML = '';\n",
              "          dataTable['output_type'] = 'display_data';\n",
              "          await google.colab.output.renderOutput(dataTable, element);\n",
              "          const docLink = document.createElement('div');\n",
              "          docLink.innerHTML = docLinkHtml;\n",
              "          element.appendChild(docLink);\n",
              "        }\n",
              "      </script>\n",
              "    </div>\n",
              "  </div>\n",
              "  "
            ]
          },
          "metadata": {},
          "execution_count": 8
        }
      ]
    },
    {
      "cell_type": "markdown",
      "source": [
        "⚡ This code only scrapes the first page of the news as demonstration. Always cross-check the data completeness before next step."
      ],
      "metadata": {
        "id": "L3tbY5tVBgn9"
      }
    },
    {
      "cell_type": "markdown",
      "source": [
        "# Reddit (API)\n",
        "\n",
        "For example, scrape subreddit 'confession' to study guilt."
      ],
      "metadata": {
        "id": "SswaHtXN-PCz"
      }
    },
    {
      "cell_type": "markdown",
      "metadata": {
        "id": "N8tMTc-u0E6N"
      },
      "source": [
        "follow the tutorial: https://towardsdatascience.com/scraping-reddit-data-1c0af3040768"
      ]
    },
    {
      "cell_type": "markdown",
      "source": [
        "# Twitter (API)\n",
        "Application and tutorial: https://github.com/twitterdev/getting-started-with-the-twitter-api-v2-for-academic-research/blob/main/modules/2-choosing-the-right-product-track.md"
      ],
      "metadata": {
        "id": "YLfBFq1bboN4"
      }
    }
  ],
  "metadata": {
    "colab": {
      "provenance": [],
      "include_colab_link": true
    },
    "kernelspec": {
      "display_name": "Python 3",
      "name": "python3"
    },
    "language_info": {
      "name": "python"
    }
  },
  "nbformat": 4,
  "nbformat_minor": 0
}