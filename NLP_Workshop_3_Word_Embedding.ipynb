{
  "cells": [
    {
      "cell_type": "markdown",
      "metadata": {
        "id": "view-in-github",
        "colab_type": "text"
      },
      "source": [
        "<a href=\"https://colab.research.google.com/github/amberxuqianchen/nlp-workshop/blob/main/NLP_Workshop_3_Word_Embedding.ipynb\" target=\"_parent\"><img src=\"https://colab.research.google.com/assets/colab-badge.svg\" alt=\"Open In Colab\"/></a>"
      ]
    },
    {
      "cell_type": "markdown",
      "metadata": {
        "id": "NOL9zUq9C3up"
      },
      "source": [
        "# Word Embeddings\n",
        "\n",
        "Adopted from Exploring Gender Bias in Word Embedding https://learn.responsibly.ai/word-embedding\n",
        "\n",
        "# Overview\n",
        "\n",
        "## Learning Objectives:\n",
        "\n",
        "1. Gaining an intuitive technical understanding of bias in texts;\n",
        "\n",
        "2. Linking textual bias with reality bias.\n",
        "\n",
        "## Audience\n",
        "Everyone, really. No previous knowledge is assumed. If you have a background, you will be able to understand the topic more deeply.\n",
        "\n",
        "\n",
        "## Method\n",
        "\n",
        "1. Dive into a word2vec model;\n",
        "\n",
        "2. Focus on one example of bias: by gender.\n",
        "\n",
        "## Disclaimers\n",
        "\n",
        "1. We focus on gender bias, and treat it as binary for the simplicity in this work. Nevertheless, gender is a complex social construct, and we should keep it in mind when we go back from a learning context to the real-world.\n",
        "\n",
        "2. We don't aim to give a comprehensive overview of neither bias in machine learning nor stereotypical bias in real life.\n",
        "\n",
        "3. If you need to work on one of these topics, this workshop is far from being enough, but it can serve as a starting point for your learning path.\n",
        "\n",
        "4. On top of that, it is an active area of research.\n",
        "\n",
        "\n",
        "## Legend\n",
        "💎 Important\n",
        "\n",
        "⚡ Be Aware - Debated issue / interpret carefully / simplicity over precision\n",
        "\n",
        "🛠️ Setup/Technical (a.k.a \"the code is not important, just run it!\")\n",
        "\n",
        "🧪 Methodological Issue\n",
        "\n",
        "💻 Hands-On - Your turn! NO programming background\n",
        "\n",
        "⌨️ ... A little programming background (in Python) is required\n",
        "\n",
        "🦄 Out of Scope\n",
        "\n",
        "## Advice for using Colab\n",
        "1. Make a local copy to your Drive: otherwise changes you make (e.g. notes you take, code you write, etc) will not be saved\n",
        "2. Do not edit the same colab directly as a group. Unlike Google Docs, one person’s version will overwrite another’s. If your browser happens to be open, it can overwrite anything that has been done by others since the last version in your browser!\n",
        "3. Colab does not have version control! Use git for this if you want to collaborate (on a group project colab for example)\n"
      ]
    },
    {
      "cell_type": "markdown",
      "metadata": {
        "id": "idhysORlC3uy"
      },
      "source": [
        "# Part One: Setup"
      ]
    },
    {
      "cell_type": "markdown",
      "metadata": {
        "id": "Vn-4xIh6C3uz"
      },
      "source": [
        "## 1.1 - 🛠️ Install `responsibly`\n",
        "\n",
        "`responsibly` is used for tutorial purpose, since it has not updated for years, you might consider using `gensim` for real stuff."
      ]
    },
    {
      "cell_type": "code",
      "execution_count": null,
      "metadata": {
        "id": "_nQ508U3C3uz",
        "outputId": "4ed74c12-714f-4bd7-cecc-8c60a514870b",
        "colab": {
          "base_uri": "https://localhost:8080/"
        }
      },
      "outputs": [
        {
          "output_type": "stream",
          "name": "stdout",
          "text": [
            "Looking in indexes: https://pypi.org/simple, https://us-python.pkg.dev/colab-wheels/public/simple/\n",
            "Requirement already satisfied: responsibly in /root/.local/lib/python3.9/site-packages (0.1.2)\n",
            "Requirement already satisfied: seaborn>=0.9 in /usr/local/lib/python3.9/dist-packages (from responsibly) (0.11.2)\n",
            "Requirement already satisfied: pandas>=0.23 in /usr/local/lib/python3.9/dist-packages (from responsibly) (1.3.5)\n",
            "Requirement already satisfied: matplotlib<3,>=2.2 in /root/.local/lib/python3.9/site-packages (from responsibly) (2.2.5)\n",
            "Requirement already satisfied: numpy>=1.15 in /usr/local/lib/python3.9/dist-packages (from responsibly) (1.22.4)\n",
            "Requirement already satisfied: click>=6.0 in /usr/local/lib/python3.9/dist-packages (from responsibly) (8.1.3)\n",
            "Requirement already satisfied: tabulate>=0.8 in /usr/local/lib/python3.9/dist-packages (from responsibly) (0.8.10)\n",
            "Requirement already satisfied: tqdm>=4.24 in /usr/local/lib/python3.9/dist-packages (from responsibly) (4.65.0)\n",
            "Requirement already satisfied: gensim>=3.7 in /root/.local/lib/python3.9/site-packages (from responsibly) (4.3.0)\n",
            "Requirement already satisfied: six>=1.10 in /usr/local/lib/python3.9/dist-packages (from responsibly) (1.15.0)\n",
            "Requirement already satisfied: mlxtend<0.17,>=0.13 in /usr/local/lib/python3.9/dist-packages (from responsibly) (0.14.0)\n",
            "Requirement already satisfied: scipy>=1.1 in /usr/local/lib/python3.9/dist-packages (from responsibly) (1.10.1)\n",
            "Requirement already satisfied: scikit-learn>=0.19 in /usr/local/lib/python3.9/dist-packages (from responsibly) (1.2.1)\n",
            "Requirement already satisfied: FuzzyTM>=0.4.0 in /root/.local/lib/python3.9/site-packages (from gensim>=3.7->responsibly) (2.0.5)\n",
            "Requirement already satisfied: smart-open>=1.8.1 in /usr/local/lib/python3.9/dist-packages (from gensim>=3.7->responsibly) (6.3.0)\n",
            "Requirement already satisfied: python-dateutil>=2.1 in /usr/local/lib/python3.9/dist-packages (from matplotlib<3,>=2.2->responsibly) (2.8.2)\n",
            "Requirement already satisfied: pyparsing!=2.0.4,!=2.1.2,!=2.1.6,>=2.0.1 in /usr/local/lib/python3.9/dist-packages (from matplotlib<3,>=2.2->responsibly) (3.0.9)\n",
            "Requirement already satisfied: cycler>=0.10 in /usr/local/lib/python3.9/dist-packages (from matplotlib<3,>=2.2->responsibly) (0.11.0)\n",
            "Requirement already satisfied: kiwisolver>=1.0.1 in /usr/local/lib/python3.9/dist-packages (from matplotlib<3,>=2.2->responsibly) (1.4.4)\n",
            "Requirement already satisfied: pytz in /usr/local/lib/python3.9/dist-packages (from matplotlib<3,>=2.2->responsibly) (2022.7.1)\n",
            "Requirement already satisfied: setuptools in /usr/local/lib/python3.9/dist-packages (from mlxtend<0.17,>=0.13->responsibly) (57.4.0)\n",
            "Requirement already satisfied: joblib>=1.1.1 in /usr/local/lib/python3.9/dist-packages (from scikit-learn>=0.19->responsibly) (1.2.0)\n",
            "Requirement already satisfied: threadpoolctl>=2.0.0 in /usr/local/lib/python3.9/dist-packages (from scikit-learn>=0.19->responsibly) (3.1.0)\n",
            "Requirement already satisfied: pyfume in /root/.local/lib/python3.9/site-packages (from FuzzyTM>=0.4.0->gensim>=3.7->responsibly) (0.2.25)\n",
            "Requirement already satisfied: simpful in /root/.local/lib/python3.9/site-packages (from pyfume->FuzzyTM>=0.4.0->gensim>=3.7->responsibly) (2.10.0)\n",
            "Requirement already satisfied: fst-pso in /root/.local/lib/python3.9/site-packages (from pyfume->FuzzyTM>=0.4.0->gensim>=3.7->responsibly) (1.8.1)\n",
            "Requirement already satisfied: miniful in /root/.local/lib/python3.9/site-packages (from fst-pso->pyfume->FuzzyTM>=0.4.0->gensim>=3.7->responsibly) (0.0.6)\n",
            "Requirement already satisfied: requests in /usr/local/lib/python3.9/dist-packages (from simpful->pyfume->FuzzyTM>=0.4.0->gensim>=3.7->responsibly) (2.25.1)\n",
            "Requirement already satisfied: chardet<5,>=3.0.2 in /usr/local/lib/python3.9/dist-packages (from requests->simpful->pyfume->FuzzyTM>=0.4.0->gensim>=3.7->responsibly) (4.0.0)\n",
            "Requirement already satisfied: certifi>=2017.4.17 in /usr/local/lib/python3.9/dist-packages (from requests->simpful->pyfume->FuzzyTM>=0.4.0->gensim>=3.7->responsibly) (2022.12.7)\n",
            "Requirement already satisfied: idna<3,>=2.5 in /usr/local/lib/python3.9/dist-packages (from requests->simpful->pyfume->FuzzyTM>=0.4.0->gensim>=3.7->responsibly) (2.10)\n",
            "Requirement already satisfied: urllib3<1.27,>=1.21.1 in /usr/local/lib/python3.9/dist-packages (from requests->simpful->pyfume->FuzzyTM>=0.4.0->gensim>=3.7->responsibly) (1.26.14)\n"
          ]
        }
      ],
      "source": [
        "%pip install --user responsibly"
      ]
    },
    {
      "cell_type": "markdown",
      "metadata": {
        "id": "7KVoylBYC3u0"
      },
      "source": [
        "---\n",
        "\n",
        "### You might need to restart youe notebook\n",
        "<big>⚠️</big>\n",
        "\n",
        "If you get an error of **`ModuleNotFoundError: No module named 'responsibly'`** after the `import responsibly` in the next cell, and you work on either **Colab** or **Binder** - this is **normal**.\n",
        "<br/> <br/>\n",
        "**Restart** the Kernel/Runtime (use the menu on top or the botton in the notebook), **skip** the installation cell (`!pip install --user responsibly`) and **run** the previous cell again (`import responsibly`).\n",
        "\n",
        "Now it should all work fine!\n",
        "\n",
        "---"
      ]
    },
    {
      "cell_type": "markdown",
      "metadata": {
        "id": "rU1uolhsC3u0"
      },
      "source": [
        "## 1.2 - Validate Installation of `responsibly`\n",
        "<big>🛠️</big>"
      ]
    },
    {
      "cell_type": "code",
      "execution_count": null,
      "metadata": {
        "id": "E63RXd26C3u0",
        "outputId": "30687035-406e-4467-d536-a50588ceffa1",
        "colab": {
          "base_uri": "https://localhost:8080/",
          "height": 368
        }
      },
      "outputs": [
        {
          "output_type": "error",
          "ename": "AttributeError",
          "evalue": "ignored",
          "traceback": [
            "\u001b[0;31m---------------------------------------------------------------------------\u001b[0m",
            "\u001b[0;31mAttributeError\u001b[0m                            Traceback (most recent call last)",
            "\u001b[0;32m<ipython-input-1-a502ec100eda>\u001b[0m in \u001b[0;36m<module>\u001b[0;34m\u001b[0m\n\u001b[0;32m----> 1\u001b[0;31m \u001b[0;32mimport\u001b[0m \u001b[0mresponsibly\u001b[0m\u001b[0;34m\u001b[0m\u001b[0;34m\u001b[0m\u001b[0m\n\u001b[0m\u001b[1;32m      2\u001b[0m \u001b[0;34m\u001b[0m\u001b[0m\n\u001b[1;32m      3\u001b[0m \u001b[0;31m# You should get '0.1.3'\u001b[0m\u001b[0;34m\u001b[0m\u001b[0;34m\u001b[0m\u001b[0m\n\u001b[1;32m      4\u001b[0m \u001b[0mresponsibly\u001b[0m\u001b[0;34m.\u001b[0m\u001b[0m__version__\u001b[0m\u001b[0;34m\u001b[0m\u001b[0;34m\u001b[0m\u001b[0m\n",
            "\u001b[0;32m~/.local/lib/python3.9/site-packages/responsibly/__init__.py\u001b[0m in \u001b[0;36m<module>\u001b[0;34m\u001b[0m\n\u001b[1;32m      1\u001b[0m \u001b[0;31m# pylint: disable=line-too-long\u001b[0m\u001b[0;34m\u001b[0m\u001b[0;34m\u001b[0m\u001b[0m\n\u001b[1;32m      2\u001b[0m \u001b[0;34m\u001b[0m\u001b[0m\n\u001b[0;32m----> 3\u001b[0;31m \u001b[0;32mfrom\u001b[0m \u001b[0mresponsibly\u001b[0m \u001b[0;32mimport\u001b[0m \u001b[0mfairness\u001b[0m\u001b[0;34m,\u001b[0m \u001b[0mwe\u001b[0m\u001b[0;34m\u001b[0m\u001b[0;34m\u001b[0m\u001b[0m\n\u001b[0m\u001b[1;32m      4\u001b[0m \u001b[0;34m\u001b[0m\u001b[0m\n\u001b[1;32m      5\u001b[0m \u001b[0;34m\u001b[0m\u001b[0m\n",
            "\u001b[0;32m~/.local/lib/python3.9/site-packages/responsibly/we/__init__.py\u001b[0m in \u001b[0;36m<module>\u001b[0;34m\u001b[0m\n\u001b[1;32m     46\u001b[0m \"\"\"\n\u001b[1;32m     47\u001b[0m \u001b[0;34m\u001b[0m\u001b[0m\n\u001b[0;32m---> 48\u001b[0;31m \u001b[0;32mfrom\u001b[0m \u001b[0mresponsibly\u001b[0m\u001b[0;34m.\u001b[0m\u001b[0mwe\u001b[0m\u001b[0;34m.\u001b[0m\u001b[0mbias\u001b[0m \u001b[0;32mimport\u001b[0m \u001b[0mBiasWordEmbedding\u001b[0m\u001b[0;34m,\u001b[0m \u001b[0mGenderBiasWE\u001b[0m\u001b[0;34m\u001b[0m\u001b[0;34m\u001b[0m\u001b[0m\n\u001b[0m\u001b[1;32m     49\u001b[0m \u001b[0;32mfrom\u001b[0m \u001b[0mresponsibly\u001b[0m\u001b[0;34m.\u001b[0m\u001b[0mwe\u001b[0m\u001b[0;34m.\u001b[0m\u001b[0mdata\u001b[0m \u001b[0;32mimport\u001b[0m \u001b[0mload_w2v_small\u001b[0m\u001b[0;34m\u001b[0m\u001b[0;34m\u001b[0m\u001b[0m\n\u001b[1;32m     50\u001b[0m \u001b[0;32mfrom\u001b[0m \u001b[0mresponsibly\u001b[0m\u001b[0;34m.\u001b[0m\u001b[0mwe\u001b[0m\u001b[0;34m.\u001b[0m\u001b[0mutils\u001b[0m \u001b[0;32mimport\u001b[0m \u001b[0mmost_similar\u001b[0m\u001b[0;34m\u001b[0m\u001b[0;34m\u001b[0m\u001b[0m\n",
            "\u001b[0;32m~/.local/lib/python3.9/site-packages/responsibly/we/bias.py\u001b[0m in \u001b[0;36m<module>\u001b[0;34m\u001b[0m\n\u001b[1;32m     91\u001b[0m \u001b[0;32mfrom\u001b[0m \u001b[0mresponsibly\u001b[0m\u001b[0;34m.\u001b[0m\u001b[0mwe\u001b[0m\u001b[0;34m.\u001b[0m\u001b[0mbenchmark\u001b[0m \u001b[0;32mimport\u001b[0m \u001b[0mevaluate_word_embedding\u001b[0m\u001b[0;34m\u001b[0m\u001b[0;34m\u001b[0m\u001b[0m\n\u001b[1;32m     92\u001b[0m \u001b[0;32mfrom\u001b[0m \u001b[0mresponsibly\u001b[0m\u001b[0;34m.\u001b[0m\u001b[0mwe\u001b[0m\u001b[0;34m.\u001b[0m\u001b[0mdata\u001b[0m \u001b[0;32mimport\u001b[0m \u001b[0mBOLUKBASI_DATA\u001b[0m\u001b[0;34m,\u001b[0m \u001b[0mOCCUPATION_FEMALE_PRECENTAGE\u001b[0m\u001b[0;34m\u001b[0m\u001b[0;34m\u001b[0m\u001b[0m\n\u001b[0;32m---> 93\u001b[0;31m from responsibly.we.utils import (\n\u001b[0m\u001b[1;32m     94\u001b[0m     \u001b[0massert_gensim_keyed_vectors\u001b[0m\u001b[0;34m,\u001b[0m \u001b[0mcosine_similarity\u001b[0m\u001b[0;34m,\u001b[0m \u001b[0mgenerate_one_word_forms\u001b[0m\u001b[0;34m,\u001b[0m\u001b[0;34m\u001b[0m\u001b[0;34m\u001b[0m\u001b[0m\n\u001b[1;32m     95\u001b[0m     \u001b[0mgenerate_words_forms\u001b[0m\u001b[0;34m,\u001b[0m \u001b[0mget_seed_vector\u001b[0m\u001b[0;34m,\u001b[0m \u001b[0mmost_similar\u001b[0m\u001b[0;34m,\u001b[0m \u001b[0mnormalize\u001b[0m\u001b[0;34m,\u001b[0m\u001b[0;34m\u001b[0m\u001b[0;34m\u001b[0m\u001b[0m\n",
            "\u001b[0;32m~/.local/lib/python3.9/site-packages/responsibly/we/utils.py\u001b[0m in \u001b[0;36m<module>\u001b[0;34m\u001b[0m\n\u001b[1;32m     12\u001b[0m \u001b[0;34m\u001b[0m\u001b[0m\n\u001b[1;32m     13\u001b[0m WORD_EMBEDDING_MODEL_TYPES = (gensim.models.keyedvectors.KeyedVectors,\n\u001b[0;32m---> 14\u001b[0;31m                               \u001b[0mgensim\u001b[0m\u001b[0;34m.\u001b[0m\u001b[0mmodels\u001b[0m\u001b[0;34m.\u001b[0m\u001b[0mkeyedvectors\u001b[0m\u001b[0;34m.\u001b[0m\u001b[0mBaseKeyedVectors\u001b[0m\u001b[0;34m,\u001b[0m\u001b[0;34m\u001b[0m\u001b[0;34m\u001b[0m\u001b[0m\n\u001b[0m\u001b[1;32m     15\u001b[0m                               \u001b[0mgensim\u001b[0m\u001b[0;34m.\u001b[0m\u001b[0mmodels\u001b[0m\u001b[0;34m.\u001b[0m\u001b[0mfasttext\u001b[0m\u001b[0;34m.\u001b[0m\u001b[0mFastText\u001b[0m\u001b[0;34m,\u001b[0m\u001b[0;34m\u001b[0m\u001b[0;34m\u001b[0m\u001b[0m\n\u001b[1;32m     16\u001b[0m                               \u001b[0mgensim\u001b[0m\u001b[0;34m.\u001b[0m\u001b[0mmodels\u001b[0m\u001b[0;34m.\u001b[0m\u001b[0mword2vec\u001b[0m\u001b[0;34m.\u001b[0m\u001b[0mWord2Vec\u001b[0m\u001b[0;34m,\u001b[0m\u001b[0;34m\u001b[0m\u001b[0;34m\u001b[0m\u001b[0m\n",
            "\u001b[0;31mAttributeError\u001b[0m: module 'gensim.models.keyedvectors' has no attribute 'BaseKeyedVectors'"
          ]
        }
      ],
      "source": [
        "import responsibly\n",
        "\n",
        "# You should get '0.1.3'\n",
        "responsibly.__version__"
      ]
    },
    {
      "cell_type": "markdown",
      "metadata": {
        "id": "ND0y48N0C3u1"
      },
      "source": [
        "# Part Two: Examples of Bias in Language Technology"
      ]
    },
    {
      "cell_type": "markdown",
      "metadata": {
        "id": "zkXSkI3SC3u1"
      },
      "source": [
        "## 2.1 - Recruiting tool\n",
        "\n",
        "\"Amazon scraps secret AI recruiting tool that showed bias against women\" ([Reuters](https://www.reuters.com/article/us-amazon-com-jobs-automation-insight/amazon-scraps-secret-ai-recruiting-tool-that-showed-bias-against-women-idUSKCN1MK08G))\n",
        "\n",
        "\"But by 2015, the company realized its new system was not rating candidates for software developer jobs and other technical posts in a gender-neutral way.\""
      ]
    },
    {
      "cell_type": "markdown",
      "metadata": {
        "id": "6112Hp2dDaYG"
      },
      "source": [
        "\n",
        "## 2.2 - Natural Language Generation  (chatGPT)\n",
        "\n"
      ]
    },
    {
      "cell_type": "markdown",
      "metadata": {
        "id": "j580hhNJC3u2"
      },
      "source": [
        "# Part Three: Motivation - Why to use Word Embeddings?"
      ]
    },
    {
      "cell_type": "markdown",
      "metadata": {
        "id": "0pCZrVekC3u2"
      },
      "source": [
        "## 3.3 - Esessional Question - How to represent language to machine?\n",
        "\n",
        "We need some kind of *dictionary* 📖 to transform/encode\n",
        "\n",
        "→ from a human representation (words) 🗣 🔡\n",
        "\n",
        "→ to a machine representation (numbers) 🤖 🔢\n",
        "\n",
        "### First Atempt\n",
        "\n",
        "### Idea: Bag of Words (for a document)\n",
        "\n",
        "<small>Source: Zheng, A.& Casari, A. (2018). Feature Engineering for Machine Learning. O'Reilly Media.</small>"
      ]
    },
    {
      "cell_type": "code",
      "execution_count": null,
      "metadata": {
        "id": "7SIe0KUQC3u2"
      },
      "outputs": [],
      "source": [
        "from sklearn.feature_extraction.text import CountVectorizer\n",
        "\n",
        "vocabulary = ['it', 'they', 'puppy', 'and', 'cat', 'aardvark', 'cute', 'extremely', 'not']\n",
        "\n",
        "vectorizer = CountVectorizer(vocabulary=vocabulary)"
      ]
    },
    {
      "cell_type": "markdown",
      "metadata": {
        "id": "fuqtsTSpC3u3"
      },
      "source": [
        "### Bag of words"
      ]
    },
    {
      "cell_type": "code",
      "execution_count": null,
      "metadata": {
        "id": "9euJwWBnC3u4",
        "colab": {
          "base_uri": "https://localhost:8080/"
        },
        "outputId": "9b2b7b14-d640-4059-f451-82e763049e4d"
      },
      "outputs": [
        {
          "output_type": "execute_result",
          "data": {
            "text/plain": [
              "array([[2, 0, 1, 1, 0, 0, 1, 1, 0]])"
            ]
          },
          "metadata": {},
          "execution_count": 3
        }
      ],
      "source": [
        "vectorizer.fit_transform(['it is a puppy and it is extremely cute']).toarray()"
      ]
    },
    {
      "cell_type": "code",
      "execution_count": null,
      "metadata": {
        "id": "lPd-yhuJC3u4",
        "colab": {
          "base_uri": "https://localhost:8080/"
        },
        "outputId": "1d686bbc-ebdc-49e8-81dd-fb4f48256bd5"
      },
      "outputs": [
        {
          "output_type": "execute_result",
          "data": {
            "text/plain": [
              "array([[2, 0, 1, 1, 0, 0, 1, 1, 1]])"
            ]
          },
          "metadata": {},
          "execution_count": 4
        }
      ],
      "source": [
        "vectorizer.fit_transform(['it is not a puppy and it is extremely cute']).toarray()"
      ]
    },
    {
      "cell_type": "code",
      "execution_count": null,
      "metadata": {
        "id": "pT80g0l7C3u4",
        "colab": {
          "base_uri": "https://localhost:8080/"
        },
        "outputId": "f1ae6a79-95a9-4396-ee47-a1c0660fc6fe"
      },
      "outputs": [
        {
          "output_type": "execute_result",
          "data": {
            "text/plain": [
              "array([[2, 0, 1, 1, 0, 0, 1, 1, 1]])"
            ]
          },
          "metadata": {},
          "execution_count": 5
        }
      ],
      "source": [
        "vectorizer.fit_transform(['it is a puppy and it is extremely not cute']).toarray()"
      ]
    },
    {
      "cell_type": "markdown",
      "metadata": {
        "id": "t723YhaCC3u4"
      },
      "source": [
        "🦄 Read more about scikit-learn's text feature extraction [here](https://scikit-learn.org/stable/modules/feature_extraction.html#text-feature-extraction)."
      ]
    },
    {
      "cell_type": "markdown",
      "metadata": {
        "id": "OYLHZnIrC3u5"
      },
      "source": [
        "### One-hot representation"
      ]
    },
    {
      "cell_type": "code",
      "execution_count": null,
      "metadata": {
        "id": "Z6iVvcLzC3u5",
        "colab": {
          "base_uri": "https://localhost:8080/"
        },
        "outputId": "ca3e5c49-5ce4-4e75-f8de-3a0c15a8a862"
      },
      "outputs": [
        {
          "output_type": "execute_result",
          "data": {
            "text/plain": [
              "[array([[1, 0, 0, 0, 0, 0, 0, 0, 0]]),\n",
              " array([[0, 0, 1, 0, 0, 0, 0, 0, 0]]),\n",
              " array([[0, 0, 0, 1, 0, 0, 0, 0, 0]]),\n",
              " array([[1, 0, 0, 0, 0, 0, 0, 0, 0]]),\n",
              " array([[0, 0, 0, 0, 0, 0, 0, 1, 0]]),\n",
              " array([[0, 0, 0, 0, 0, 0, 1, 0, 0]])]"
            ]
          },
          "metadata": {},
          "execution_count": 6
        }
      ],
      "source": [
        "sentence = 'it is a puppy and it is extremely cute'\n",
        "[vectorizer.fit_transform([word]).toarray()\n",
        " for word in sentence.split()\n",
        " if word in vocabulary]"
      ]
    },
    {
      "cell_type": "markdown",
      "metadata": {
        "id": "tAxMVpIcC3u5"
      },
      "source": [
        "## 3.4 - Idea: Embedding a word in a n-dimensional space\n",
        "<big>💎</big>\n",
        "\n",
        "### Distributional Hypothesis\n",
        "> \"a word is characterized by the company it keeps\" - [John Rupert Firth](https://en.wikipedia.org/wiki/John_Rupert_Firth)\n",
        "\n",
        "**Distance ~ Meaning Similarity**\n",
        "\n",
        "\n",
        "### Examples (algorithms and pre-trained models)\n",
        "<big>🦄</big>\n",
        "- [Word2Vec](https://code.google.com/archive/p/word2vec/)\n",
        "- [GloVe](https://nlp.stanford.edu/projects/glove/)\n",
        "- [fastText](https://fasttext.cc/)\n",
        "- [ELMo](https://allennlp.org/elmo) (contextualized)\n",
        "\n",
        "#### Training: using *word-context* relationships from a corpus.\n",
        "<big>🦄</big>\n",
        "\n",
        "See: [The Illustrated Word2vec by Jay Alammar](http://jalammar.github.io/illustrated-word2vec/)\n",
        "\n",
        "#### State of the Art - Contextual Word Embedding → Language Models\n",
        "<big>🦄</big>\n",
        "- [The Illustrated BERT, ELMo, and co. (How NLP Cracked Transfer Learning) by Jay Alammar](http://jalammar.github.io/illustrated-bert/)\n",
        "- Microsoft - [NLP Best Practices](https://github.com/microsoft/nlp-recipes)\n",
        "- [Tracking Progress in Natural Language Processing](https://nlpprogress.com/)"
      ]
    },
    {
      "cell_type": "markdown",
      "metadata": {
        "id": "MxWD54mFC3u6"
      },
      "source": [
        "# Part Four: Playing with Word2Vec word embedding!\n",
        "\n",
        "[Word2Vec](https://code.google.com/archive/p/word2vec/) - Google News - 100B tokens, 3M vocab, cased, 300d vectors - only lowercase vocab extracted\n",
        "\n",
        "Loaded using [`responsibly`](http://docs.responsibly.ai) package, the function [`responsibly.we.load_w2v_small`]() returns a [`gensim`](https://radimrehurek.com/gensim/)'s [`KeyedVectors`](https://radimrehurek.com/gensim/models/keyedvectors.html#gensim.models.keyedvectors.KeyedVectors) object."
      ]
    },
    {
      "cell_type": "markdown",
      "metadata": {
        "id": "AZmUr2o3Dwai"
      },
      "source": [
        "## 4.1 - Basic Properties"
      ]
    },
    {
      "cell_type": "code",
      "execution_count": null,
      "metadata": {
        "id": "VafEGudyC3u6"
      },
      "outputs": [],
      "source": [
        "# 🛠️⚡ ignore warnings\n",
        "# generally, you shouldn't do that, but for this tutorial we'll do so for the sake of simplicity\n",
        "\n",
        "import warnings\n",
        "warnings.filterwarnings('ignore')"
      ]
    },
    {
      "cell_type": "code",
      "execution_count": null,
      "metadata": {
        "id": "_AKj8lzLC3u6",
        "colab": {
          "base_uri": "https://localhost:8080/"
        },
        "outputId": "4202b1b4-0b49-4162-9486-ff27e8971025"
      },
      "outputs": [
        {
          "output_type": "stream",
          "name": "stdout",
          "text": [
            "[('dogs', 0.8680490255355835), ('puppy', 0.8106428384780884), ('pit_bull', 0.7803961038589478), ('pooch', 0.7627377510070801), ('cat', 0.7609457969665527), ('pup', 0.7406911849975586), ('canines', 0.7221245765686035), ('pet', 0.7164785265922546), ('canine', 0.6918289661407471), ('pit_bulls', 0.6767823696136475)]\n"
          ]
        }
      ],
      "source": [
        "from responsibly.we import load_w2v_small\n",
        "w2v_small = load_w2v_small()\n",
        "\n",
        "# Test the model\n",
        "print(w2v_small.most_similar('dog'))"
      ]
    },
    {
      "cell_type": "code",
      "execution_count": null,
      "metadata": {
        "id": "_5SjqSjtC3u6"
      },
      "outputs": [],
      "source": [
        "# vocabulary size\n",
        "len(w2v_small.vocab)"
      ]
    },
    {
      "cell_type": "code",
      "execution_count": null,
      "metadata": {
        "id": "WCuUyFuIC3u7",
        "outputId": "bdfe4dbd-112b-4b32-d555-f39b07d57619",
        "colab": {
          "base_uri": "https://localhost:8080/"
        }
      },
      "outputs": [
        {
          "output_type": "execute_result",
          "data": {
            "text/plain": [
              "300"
            ]
          },
          "metadata": {},
          "execution_count": 21
        }
      ],
      "source": [
        "# the word embedding dimension, in this case, is 300\n",
        "len(w2v_small['home'])"
      ]
    },
    {
      "cell_type": "code",
      "execution_count": null,
      "metadata": {
        "id": "-vYyVOfnC3u7"
      },
      "outputs": [],
      "source": [
        "# get the vector of the word \"home\"\n",
        "print('home =', w2v_small['home'])"
      ]
    },
    {
      "cell_type": "code",
      "execution_count": null,
      "metadata": {
        "id": "ADMLat0gC3u7",
        "outputId": "4714fc65-738c-4aa5-e667-4d81fa17769c",
        "colab": {
          "base_uri": "https://localhost:8080/"
        }
      },
      "outputs": [
        {
          "output_type": "execute_result",
          "data": {
            "text/plain": [
              "1.0"
            ]
          },
          "metadata": {},
          "execution_count": 22
        }
      ],
      "source": [
        "# all the words are normalized (=have norm equal to one as vectors)\n",
        "\n",
        "from numpy.linalg import norm\n",
        "\n",
        "norm(w2v_small['home'])"
      ]
    },
    {
      "cell_type": "code",
      "execution_count": null,
      "metadata": {
        "id": "an6l7AKwC3u7"
      },
      "outputs": [],
      "source": [
        "# 🛠️ make sure that all the vectors are normalized!\n",
        "\n",
        "from numpy.testing import assert_almost_equal\n",
        "\n",
        "length_vectors = norm(w2v_small.vectors, axis=1)\n",
        "\n",
        "assert_almost_equal(actual=length_vectors,\n",
        "                    desired=1,\n",
        "                    decimal=5)"
      ]
    },
    {
      "cell_type": "markdown",
      "metadata": {
        "id": "kuWUyD8MC3u7"
      },
      "source": [
        "## 4.2 - Mesuring Distance between Words\n",
        "<big>💎</big>\n",
        "\n",
        "### Mesure of Similiarty: [Cosine Similariy](https://en.wikipedia.org/wiki/Cosine_similarity)\n",
        "- Measures the cosine of the angle between two vecotrs.\n",
        "- Ranges between 1 (same vector) to -1 (opposite/antipode vector)\n",
        "- In Python, for normalized vectors (Numpy's array), use the `@`(at) operator!"
      ]
    },
    {
      "cell_type": "code",
      "execution_count": null,
      "metadata": {
        "id": "GdXNWnCRC3u8",
        "outputId": "87ef6bb1-4c15-4e93-f946-a943bf5b82ae",
        "colab": {
          "base_uri": "https://localhost:8080/"
        }
      },
      "outputs": [
        {
          "output_type": "execute_result",
          "data": {
            "text/plain": [
              "1.0000006"
            ]
          },
          "metadata": {},
          "execution_count": 9
        }
      ],
      "source": [
        "# @ computes the dot product between two word vectors, measuing the degree of similarity between the meanings of two words when the vectors have been normalized\n",
        "w2v_small['cat'] @ w2v_small['cat']"
      ]
    },
    {
      "cell_type": "code",
      "execution_count": null,
      "metadata": {
        "id": "lqqZKLNlC3u8",
        "outputId": "bdd4142b-fd9d-4e2e-c1d1-7d1f653f3b94",
        "colab": {
          "base_uri": "https://localhost:8080/"
        }
      },
      "outputs": [
        {
          "output_type": "execute_result",
          "data": {
            "text/plain": [
              "0.8099383"
            ]
          },
          "metadata": {},
          "execution_count": 10
        }
      ],
      "source": [
        "w2v_small['cat'] @ w2v_small['cats']"
      ]
    },
    {
      "cell_type": "code",
      "execution_count": null,
      "metadata": {
        "id": "u7XLxEr3C3u8",
        "outputId": "a1b7feb5-7e2f-408d-f023-a5558b2a3a3f",
        "colab": {
          "base_uri": "https://localhost:8080/"
        }
      },
      "outputs": [
        {
          "output_type": "execute_result",
          "data": {
            "text/plain": [
              "35.910095270739426"
            ]
          },
          "metadata": {},
          "execution_count": 24
        }
      ],
      "source": [
        "# the angle between two word vectors using the cosine similarity measure.\n",
        "from math import acos, degrees\n",
        "degrees(acos(w2v_small['cat'] @ w2v_small['cats']))"
      ]
    },
    {
      "cell_type": "code",
      "execution_count": null,
      "metadata": {
        "id": "fgLdUfefC3u8",
        "outputId": "05a85ef6-d89b-4cf9-c81c-1b3212d5a9cc",
        "colab": {
          "base_uri": "https://localhost:8080/"
        }
      },
      "outputs": [
        {
          "output_type": "execute_result",
          "data": {
            "text/plain": [
              "0.7609462"
            ]
          },
          "metadata": {},
          "execution_count": 25
        }
      ],
      "source": [
        "w2v_small['cat'] @ w2v_small['dog']"
      ]
    },
    {
      "cell_type": "code",
      "execution_count": null,
      "metadata": {
        "id": "2gVuthONC3u8",
        "outputId": "919d8813-4f19-4b45-f647-f3c90ade2d26",
        "colab": {
          "base_uri": "https://localhost:8080/"
        }
      },
      "outputs": [
        {
          "output_type": "execute_result",
          "data": {
            "text/plain": [
              "40.452314804469154"
            ]
          },
          "metadata": {},
          "execution_count": 13
        }
      ],
      "source": [
        "degrees(acos(w2v_small['cat'] @ w2v_small['dog']))"
      ]
    },
    {
      "cell_type": "code",
      "execution_count": null,
      "metadata": {
        "id": "1I1d9F1-C3u9",
        "outputId": "6aade8b1-9364-4bbc-fe8e-9361ad8b8437",
        "colab": {
          "base_uri": "https://localhost:8080/"
        }
      },
      "outputs": [
        {
          "output_type": "execute_result",
          "data": {
            "text/plain": [
              "-0.003788825"
            ]
          },
          "metadata": {},
          "execution_count": 16
        }
      ],
      "source": [
        "w2v_small['cat'] @ w2v_small['graduated']"
      ]
    },
    {
      "cell_type": "code",
      "execution_count": null,
      "metadata": {
        "id": "rNWC7LF4C3u9",
        "outputId": "08a86e2e-332f-4523-c025-5b1e86db11ec",
        "colab": {
          "base_uri": "https://localhost:8080/"
        }
      },
      "outputs": [
        {
          "output_type": "execute_result",
          "data": {
            "text/plain": [
              "90.21708419498997"
            ]
          },
          "metadata": {},
          "execution_count": 17
        }
      ],
      "source": [
        "degrees(acos(w2v_small['cat'] @ w2v_small['graduated']))"
      ]
    },
    {
      "cell_type": "markdown",
      "metadata": {
        "id": "DZ7AGgicC3u9"
      },
      "source": [
        "💎 In general, the use of Word Embedding to encode words, as an input for NLP systems (*), improve their performance compared to one-hot representation.\n",
        "\n",
        "\\* Sometimes the embedding is learned as part of the NLP system."
      ]
    },
    {
      "cell_type": "markdown",
      "metadata": {
        "id": "SUJV2eErC3u9"
      },
      "source": [
        "## 4.3 - Visualizing Word Embedding in 2D using T-SNE \n",
        "<big>🛠️</big>\n",
        "\n",
        "<small>Source: [Google's Seedbank](https://research.google.com/seedbank/seed/pretrained_word_embeddings)</small>"
      ]
    },
    {
      "cell_type": "code",
      "execution_count": null,
      "metadata": {
        "id": "lk71tJP_C3u9",
        "colab": {
          "base_uri": "https://localhost:8080/",
          "height": 1000
        },
        "outputId": "1d2a9687-0da5-47a2-919b-03c32cf46bb9"
      },
      "outputs": [
        {
          "output_type": "display_data",
          "data": {
            "text/plain": [
              "<Figure size 1440x1440 with 1 Axes>"
            ],
            "image/png": "[encoded data removed]"
          },
          "metadata": {
            "needs_background": "light"
          }
        }
      ],
      "source": [
        "from sklearn.manifold import TSNE\n",
        "from matplotlib import pylab as plt\n",
        "import numpy as np\n",
        "from mpl_toolkits.mplot3d import Axes3D\n",
        "\n",
        "# take the most common words in the corpus between 200 and 235\n",
        "words = [word for word in w2v_small.index2word[200:235]]\n",
        "words.extend(['dog', 'cat', 'kitten', 'cute','graduated'])\n",
        "\n",
        "\n",
        "# convert the words to vectors\n",
        "embeddings = np.array([w2v_small[word] for word in words])\n",
        "\n",
        "# perform T-SNE: 2D\n",
        "words_embedded = TSNE(n_components=2).fit_transform(embeddings)\n",
        "\n",
        "# ... and visualize!\n",
        "plt.figure(figsize=(20, 20))\n",
        "for i, label in enumerate(words):\n",
        "    x, y = words_embedded[i, :]\n",
        "    plt.scatter(x, y)\n",
        "    plt.annotate(label, xy=(x, y), xytext=(5, 2), textcoords='offset points',\n",
        "                 ha='right', va='bottom', size=11)\n",
        "plt.show()\n",
        "\n"
      ]
    },
    {
      "cell_type": "markdown",
      "metadata": {
        "id": "ZQpxDNE1C3u9"
      },
      "source": [
        "### Extra: [Tensorflow Embedding Projector](http://projector.tensorflow.org)\n",
        "⚡ Be cautious: It is easy to see \"patterns\"."
      ]
    },
    {
      "cell_type": "markdown",
      "metadata": {
        "id": "7EJaiKzYC3u9"
      },
      "source": [
        "## 4.4 - Most Similar\n",
        "\n",
        "What are the most simlar words (=closer) to a given word?"
      ]
    },
    {
      "cell_type": "code",
      "execution_count": null,
      "metadata": {
        "id": "saL5WQkuC3u-"
      },
      "outputs": [],
      "source": [
        "w2v_small.most_similar('cat')"
      ]
    },
    {
      "cell_type": "markdown",
      "metadata": {
        "id": "6FNLPsbxC3u-"
      },
      "source": [
        "### EXTRA: Doesn't Match\n",
        "\n",
        "Given a list of words, which one doesn't match?\n",
        "\n",
        "The word further away from the mean of all words."
      ]
    },
    {
      "cell_type": "code",
      "execution_count": null,
      "metadata": {
        "id": "mQ4JrRpIC3u-",
        "outputId": "b1231fb2-4649-402d-d784-a552ed19fd0d",
        "colab": {
          "base_uri": "https://localhost:8080/",
          "height": 35
        }
      },
      "outputs": [
        {
          "output_type": "execute_result",
          "data": {
            "text/plain": [
              "'cereal'"
            ],
            "application/vnd.google.colaboratory.intrinsic+json": {
              "type": "string"
            }
          },
          "metadata": {},
          "execution_count": 20
        }
      ],
      "source": [
        "w2v_small.doesnt_match('breakfast cereal dinner lunch'.split())"
      ]
    },
    {
      "cell_type": "markdown",
      "metadata": {
        "id": "cEIaww5bC3u-"
      },
      "source": [
        "## 4.5 - Vector Arithmetic"
      ]
    },
    {
      "cell_type": "code",
      "execution_count": null,
      "metadata": {
        "id": "h9y5YEcdC3u-",
        "outputId": "c0e9b495-d449-411f-ae29-7a8f05333b99",
        "colab": {
          "base_uri": "https://localhost:8080/"
        }
      },
      "outputs": [
        {
          "output_type": "execute_result",
          "data": {
            "text/plain": [
              "[('biology', 0.5784977674484253),\n",
              " ('ecology', 0.5561812520027161),\n",
              " ('scientific', 0.5484972596168518),\n",
              " ('sciences', 0.5216706991195679),\n",
              " ('physics', 0.49387645721435547),\n",
              " ('geography', 0.4893345832824707),\n",
              " ('geology', 0.4885982275009155),\n",
              " ('mathematics', 0.48719534277915955),\n",
              " ('humanities', 0.48349496722221375),\n",
              " ('astronomy', 0.4645444452762604)]"
            ]
          },
          "metadata": {},
          "execution_count": 21
        }
      ],
      "source": [
        "# nature + science = ?\n",
        "\n",
        "w2v_small.most_similar(positive=['nature', 'science'])"
      ]
    },
    {
      "cell_type": "markdown",
      "metadata": {
        "id": "O9Q-3tQdC3u_"
      },
      "source": [
        "## 4.6 - Vector Analogy\n",
        "<big>💎</big>"
      ]
    },
    {
      "cell_type": "code",
      "execution_count": null,
      "metadata": {
        "id": "GRgutcU5C3u_",
        "outputId": "5162075d-1428-40e6-dc76-39b0a75d818c",
        "colab": {
          "base_uri": "https://localhost:8080/"
        }
      },
      "outputs": [
        {
          "output_type": "execute_result",
          "data": {
            "text/plain": [
              "[('queen', 0.7118192911148071),\n",
              " ('monarch', 0.6189674139022827),\n",
              " ('princess', 0.5902431011199951),\n",
              " ('prince', 0.5377321243286133),\n",
              " ('kings', 0.5236842632293701),\n",
              " ('queens', 0.5181134939193726),\n",
              " ('monarchy', 0.5087413191795349),\n",
              " ('throne', 0.5005807876586914),\n",
              " ('royal', 0.493820458650589),\n",
              " ('ruler', 0.49092739820480347)]"
            ]
          },
          "metadata": {},
          "execution_count": 63
        }
      ],
      "source": [
        "# man:king :: woman:?\n",
        "# king - man + woman = ?\n",
        "\n",
        "w2v_small.most_similar(positive=['king', 'woman'],\n",
        "                       negative=['man'])"
      ]
    },
    {
      "cell_type": "code",
      "execution_count": null,
      "metadata": {
        "id": "02Rm6_wuC3u_",
        "outputId": "6da6af9c-604f-4dba-bccb-de37cd0e9590",
        "colab": {
          "base_uri": "https://localhost:8080/"
        }
      },
      "outputs": [
        {
          "output_type": "execute_result",
          "data": {
            "text/plain": [
              "[('bigger', 0.7836998105049133),\n",
              " ('larger', 0.5866795778274536),\n",
              " ('biggest', 0.5240509510040283),\n",
              " ('huge', 0.5084124207496643),\n",
              " ('sharper', 0.48242905735969543),\n",
              " ('heavier', 0.4784499406814575),\n",
              " ('tougher', 0.46322107315063477),\n",
              " ('better', 0.46317416429519653),\n",
              " ('major', 0.4562188386917114),\n",
              " ('quicker', 0.4514269232749939)]"
            ]
          },
          "metadata": {},
          "execution_count": 66
        }
      ],
      "source": [
        "w2v_small.most_similar(positive=['big', 'smaller'],\n",
        "                       negative=['small'])"
      ]
    },
    {
      "cell_type": "markdown",
      "metadata": {
        "id": "nJMNz3cqC3u_"
      },
      "source": [
        "## 4.10 - Think about a DIRECTION in word embedding as a RELATION\n",
        "\n",
        "## $\\overrightarrow{she} - \\overrightarrow{he}$\n",
        "## $\\overrightarrow{Spain} - \\overrightarrow{Madrid}$\n",
        "\n",
        "\n",
        "**⚡ Direction is not a word vector by itself!**"
      ]
    },
    {
      "cell_type": "markdown",
      "metadata": {
        "id": "PUblfTSiC3u_"
      },
      "source": [
        "### ⚡ But it doesn't work all the time..."
      ]
    },
    {
      "cell_type": "code",
      "execution_count": null,
      "metadata": {
        "id": "j95uaEETC3vA",
        "outputId": "afeb6d60-7fef-4211-eacc-b78753b76879",
        "colab": {
          "base_uri": "https://localhost:8080/"
        }
      },
      "outputs": [
        {
          "output_type": "execute_result",
          "data": {
            "text/plain": [
              "[('ahead', 0.3578284978866577),\n",
              " ('exciting', 0.3406262993812561),\n",
              " ('excited', 0.32841262221336365),\n",
              " ('closer', 0.32427978515625),\n",
              " ('together', 0.3161127269268036),\n",
              " ('future', 0.30869507789611816),\n",
              " ('welcome', 0.30304622650146484),\n",
              " ('with', 0.30031609535217285),\n",
              " ('looking', 0.29965412616729736),\n",
              " ('eagerly', 0.29952746629714966)]"
            ]
          },
          "metadata": {},
          "execution_count": 24
        }
      ],
      "source": [
        "w2v_small.most_similar(positive=['forward', 'up'],\n",
        "                       negative=['down'])"
      ]
    },
    {
      "cell_type": "markdown",
      "metadata": {
        "id": "wE7kHZHwC3vA"
      },
      "source": [
        "It might be because we have the phrase \"looking forward\" which is acossiated with \"excitement\" in the data."
      ]
    },
    {
      "cell_type": "markdown",
      "metadata": {
        "id": "XCnE-hnMC3vA"
      },
      "source": [
        "⚡🦄 Keep in mind the word embedding was generated by learning the co-occurrence of words, so the fact that it *empirically* exhibit \"concept arithmetic\", it doesn't necessarily mean it learned it! In fact, it seems it didn't.\n",
        "See: [king - man + woman is queen; but why? by Piotr Migdał](https://p.migdal.pl/2017/01/06/king-man-woman-queen-why.html)\n",
        "\n",
        "🦄 EXTRA: [Demo - Word Analogies Visualizer by Julia Bazińska](https://lamyiowce.github.io/word2viz/)\n",
        "\n",
        "⚡🦄 In fact, `w2v_small.most_similar` find the most closest word which *is not one* of the given ones. This is a real methodological issue. Nowadays, it is not a common practice anymore to evaluate word embedding with analogies.\n",
        "\n",
        "You can use [`responsibly.we.most_similar`](https://docs.responsibly.ai/word-embedding-bias.html#responsibly.we.utils.most_similar) for the unrestricted version."
      ]
    },
    {
      "cell_type": "markdown",
      "metadata": {
        "id": "uJx1tKxrC3vA"
      },
      "source": [
        "# Part Five: Gender Bias\n",
        "\n",
        "**⚡ We use the word *bias* merely as a technical term, without jugement of \"good\" or \"bad\". Later on we will put the bias into *human contextes* to evaluate it.**\n",
        "\n",
        "Keep in mind, the data is from Google News, the writers are professional journalists.\n",
        "\n",
        "Bolukbasi Tolga, Kai-Wei Chang, James Y. Zou, Venkatesh Saligrama, and Adam T. Kalai. [Man is to computer programmer as woman is to homemaker? debiasing word embeddings](https://arxiv.org/abs/1607.06520). NIPS 2016."
      ]
    },
    {
      "cell_type": "markdown",
      "metadata": {
        "id": "VFoKGcr2C3vA"
      },
      "source": [
        "## 5.1 - Gender appropriate he-she analogies"
      ]
    },
    {
      "cell_type": "code",
      "execution_count": null,
      "metadata": {
        "id": "mzHt7krQC3vB",
        "outputId": "64aa0489-ca85-41ff-f683-59646f9c7cb9",
        "colab": {
          "base_uri": "https://localhost:8080/"
        }
      },
      "outputs": [
        {
          "output_type": "execute_result",
          "data": {
            "text/plain": [
              "[('brother', 0.7627110481262207),\n",
              " ('younger_brother', 0.6856132745742798),\n",
              " ('cousin', 0.6685015559196472),\n",
              " ('uncle', 0.6580697894096375),\n",
              " ('nephew', 0.65260249376297),\n",
              " ('father', 0.6411106586456299),\n",
              " ('son', 0.630827009677887),\n",
              " ('elder_brother', 0.585418701171875),\n",
              " ('brothers', 0.5706700086593628),\n",
              " ('twin_brother', 0.5622221231460571)]"
            ]
          },
          "metadata": {},
          "execution_count": 26
        }
      ],
      "source": [
        "# she:sister :: he:?\n",
        "# sister - she + he = ?\n",
        "\n",
        "w2v_small.most_similar(positive=['sister', 'he'],\n",
        "                       negative=['she'])"
      ]
    },
    {
      "cell_type": "markdown",
      "metadata": {
        "id": "HctdMqv8C3vB"
      },
      "source": [
        "```\n",
        "queen-king\n",
        "waitress-waiter\n",
        "sister-brother\n",
        "mother-father\n",
        "ovarian_cancer-prostate_cancer\n",
        "convent-monastery\n",
        "```"
      ]
    },
    {
      "cell_type": "markdown",
      "metadata": {
        "id": "JmdyMQbBC3vB"
      },
      "source": [
        "## 5.2 - Gender stereotype he-she analogies"
      ]
    },
    {
      "cell_type": "code",
      "execution_count": null,
      "metadata": {
        "id": "1Lq26hcCC3vB",
        "outputId": "ea78cf58-15e5-4af9-fd75-0db11f270ee5",
        "colab": {
          "base_uri": "https://localhost:8080/"
        }
      },
      "outputs": [
        {
          "output_type": "execute_result",
          "data": {
            "text/plain": [
              "[('doctor', 0.5559606552124023),\n",
              " ('medic', 0.5425378680229187),\n",
              " ('physician', 0.5394272208213806),\n",
              " ('surgeon', 0.5160146951675415),\n",
              " ('nurses', 0.49741458892822266),\n",
              " ('paramedic', 0.4924110770225525),\n",
              " ('patient', 0.46544164419174194),\n",
              " ('doctors', 0.4639861285686493),\n",
              " ('nursing', 0.46371760964393616),\n",
              " ('registered_nurse', 0.46238088607788086)]"
            ]
          },
          "metadata": {},
          "execution_count": 27
        }
      ],
      "source": [
        "w2v_small.most_similar(positive=['nurse', 'he'],\n",
        "                       negative=['she'])"
      ]
    },
    {
      "cell_type": "markdown",
      "metadata": {
        "id": "KVDAu5JbC3vB"
      },
      "source": [
        "```\n",
        "sewing-carpentry\n",
        "nurse-doctor\n",
        "blond-burly\n",
        "giggle-chuckle\n",
        "sassy-snappy\n",
        "volleyball-football\n",
        "register_nurse-physician\n",
        "interior_designer-architect\n",
        "feminism-conservatism\n",
        "vocalist-guitarist\n",
        "diva-superstar\n",
        "cupcakes-pizzas\n",
        "housewife-shopkeeper\n",
        "softball-baseball\n",
        "cosmetics-pharmaceuticals\n",
        "petite-lanky\n",
        "charming-affable\n",
        "hairdresser-barber\n",
        "```"
      ]
    },
    {
      "cell_type": "markdown",
      "metadata": {
        "id": "OkxadIKoC3vC"
      },
      "source": [
        "⚡ Be Aware: According to a recent paper, it seems that the method of generating analogies enforce producing gender sterotype ones!\n",
        "\n",
        "Nissim, M., van Noord, R., van der Goot, R. (2019). [Fair is Better than Sensational: Man is to Doctor as Woman is to Doctor](https://arxiv.org/abs/1905.09866).\n",
        "\n",
        "... and a [Twitter thread](https://twitter.com/adamfungi/status/1133865428663635968) between the authors of the two papares.\n",
        "\n",
        "My takeaway (and as well as of other researchers): Analogies are not approriate method to observe bias in word embedding.\n",
        "\n",
        "🧪 What if our methodology introduce a bias?"
      ]
    },
    {
      "cell_type": "markdown",
      "metadata": {
        "id": "KDLn6n64C3vC"
      },
      "source": [
        "## 5.3 - What can we take from analogies? Gender Direction!\n",
        "<big>💎</big>\n",
        "\n",
        "### $\\overrightarrow{she} - \\overrightarrow{he}$"
      ]
    },
    {
      "cell_type": "code",
      "source": [
        "import gensim\n",
        "from gensim.models import Word2Vec\n",
        "import gensim.downloader as api\n",
        "dataset = api.load(\"text8\")  # load dataset as iterable\n",
        "w2v_small = Word2Vec(dataset)  # train w2v model\n"
      ],
      "metadata": {
        "id": "CBXiy-oP2AVV"
      },
      "execution_count": null,
      "outputs": []
    },
    {
      "cell_type": "code",
      "execution_count": null,
      "metadata": {
        "id": "6Fl65I1vC3vC"
      },
      "outputs": [],
      "source": [
        "from numpy.linalg import norm\n",
        "import gensim\n",
        "import gensim.api\n",
        "\n",
        "gender_direction = w2v_small['she'] - w2v_small['he']\n",
        "\n",
        "gender_direction /= norm(gender_direction)"
      ]
    },
    {
      "cell_type": "code",
      "execution_count": null,
      "metadata": {
        "id": "-6uAKJvTC3vC",
        "outputId": "732d3a33-b7b1-480b-da1a-8c1f32e34987",
        "colab": {
          "base_uri": "https://localhost:8080/"
        }
      },
      "outputs": [
        {
          "output_type": "execute_result",
          "data": {
            "text/plain": [
              "-0.16785555"
            ]
          },
          "metadata": {},
          "execution_count": 31
        }
      ],
      "source": [
        "gender_direction @ w2v_small['architect']"
      ]
    },
    {
      "cell_type": "code",
      "execution_count": null,
      "metadata": {
        "id": "55MCmDhWC3vC",
        "outputId": "a5c5b271-0f48-419b-8aac-8e7b0ba09695",
        "colab": {
          "base_uri": "https://localhost:8080/"
        }
      },
      "outputs": [
        {
          "output_type": "execute_result",
          "data": {
            "text/plain": [
              "0.19714224"
            ]
          },
          "metadata": {},
          "execution_count": 32
        }
      ],
      "source": [
        "gender_direction @ w2v_small['interior_designer']"
      ]
    },
    {
      "cell_type": "markdown",
      "metadata": {
        "id": "KXoDjjFSC3vD"
      },
      "source": [
        "**⚡Interprete carefully: The word *architect* appears in more contexts with *he* than with *she*, and vice versa for *interior designer*.**"
      ]
    },
    {
      "cell_type": "markdown",
      "metadata": {
        "id": "j6_SqDfEC3vD"
      },
      "source": [
        "🦄 In practice, we calculate the gender direction using multiple definitional pair of words for better estimation (words may have more than one meaning):\n",
        "\n",
        "- woman - man\n",
        "- girl - boy\n",
        "- she - he\n",
        "- mother - father\n",
        "- daughter - son\n",
        "- gal - guy\n",
        "- female - male\n",
        "- her - his\n",
        "- herself - himself\n",
        "- Mary - John"
      ]
    },
    {
      "cell_type": "markdown",
      "metadata": {
        "id": "HiqVsyXiC3vD"
      },
      "source": [
        "## 5.4 - Try some words by yourself\n",
        "<big>💻</big>\n",
        "⚡ Keep in mind: You are performing exploratory data analysis, and not evaluate systematically!"
      ]
    },
    {
      "cell_type": "code",
      "execution_count": null,
      "metadata": {
        "id": "bvnuDrC7C3vD"
      },
      "outputs": [],
      "source": [
        "gender_direction @ w2v_small['house']"
      ]
    },
    {
      "cell_type": "markdown",
      "metadata": {
        "id": "9DuWu9yVC3vE"
      },
      "source": [
        "## 5.7 - Projections"
      ]
    },
    {
      "cell_type": "code",
      "execution_count": null,
      "metadata": {
        "id": "ucDbQ13uC3vE"
      },
      "outputs": [],
      "source": [
        "from responsibly.we import GenderBiasWE\n",
        "\n",
        "w2v_small_gender_bias = GenderBiasWE(w2v_small, only_lower=True)"
      ]
    },
    {
      "cell_type": "code",
      "execution_count": null,
      "metadata": {
        "id": "wOy5EDmRC3vE",
        "outputId": "59c3ce54-3838-424a-d223-8cdcef287fd6",
        "colab": {
          "base_uri": "https://localhost:8080/"
        }
      },
      "outputs": [
        {
          "output_type": "execute_result",
          "data": {
            "text/plain": [
              "('she', 'he')"
            ]
          },
          "metadata": {},
          "execution_count": 7
        }
      ],
      "source": [
        "w2v_small_gender_bias.positive_end, w2v_small_gender_bias.negative_end"
      ]
    },
    {
      "cell_type": "code",
      "execution_count": null,
      "metadata": {
        "id": "NzlmJWFdC3vE",
        "outputId": "1b34ee2e-1b4b-4440-fd74-3925219bec37",
        "colab": {
          "base_uri": "https://localhost:8080/"
        }
      },
      "outputs": [
        {
          "output_type": "execute_result",
          "data": {
            "text/plain": [
              "array([-0.10056252, -0.09987912, -0.05384335,  0.00480521,  0.01521063,\n",
              "       -0.01666582,  0.00932552, -0.00625998, -0.11320096,  0.03992424])"
            ]
          },
          "metadata": {},
          "execution_count": 8
        }
      ],
      "source": [
        "# gender direction\n",
        "w2v_small_gender_bias.direction[:10]"
      ]
    },
    {
      "cell_type": "code",
      "execution_count": null,
      "metadata": {
        "id": "KI8U2QhCC3vE"
      },
      "outputs": [],
      "source": [
        "from responsibly.we.data import BOLUKBASI_DATA\n",
        "\n",
        "neutral_profession_names = BOLUKBASI_DATA['gender']['neutral_profession_names']"
      ]
    },
    {
      "cell_type": "code",
      "execution_count": null,
      "metadata": {
        "id": "tAHD1RdXC3vF",
        "outputId": "c3183a16-f9be-418f-8948-fc57bbe7f2d0",
        "colab": {
          "base_uri": "https://localhost:8080/"
        }
      },
      "outputs": [
        {
          "output_type": "execute_result",
          "data": {
            "text/plain": [
              "['accountant',\n",
              " 'acquaintance',\n",
              " 'actor',\n",
              " 'adjunct_professor',\n",
              " 'administrator',\n",
              " 'adventurer',\n",
              " 'advocate',\n",
              " 'aide']"
            ]
          },
          "metadata": {},
          "execution_count": 12
        }
      ],
      "source": [
        "neutral_profession_names[:8]"
      ]
    },
    {
      "cell_type": "markdown",
      "metadata": {
        "id": "loqvR0qUC3vF"
      },
      "source": [
        "Note: Why `actor` is in the neutral profession names list while `actress` is not there?\n",
        "1. Due to the statistical nature of the method that is used to find the gender- specific and natural words\n",
        "2. That might be because `actor` nowadays is much more gender-neutral, compared to waiter-waitress (see [Wikipedia - The term Actress](https://en.wikipedia.org/wiki/Actor#The_term_actress))"
      ]
    },
    {
      "cell_type": "code",
      "execution_count": null,
      "metadata": {
        "id": "fLgkcOuGC3vF",
        "colab": {
          "base_uri": "https://localhost:8080/"
        },
        "outputId": "18c562e6-c8c1-41b4-b36a-799a3d76d5f2"
      },
      "outputs": [
        {
          "output_type": "execute_result",
          "data": {
            "text/plain": [
              "303"
            ]
          },
          "metadata": {},
          "execution_count": 13
        }
      ],
      "source": [
        "len(neutral_profession_names)"
      ]
    },
    {
      "cell_type": "code",
      "execution_count": null,
      "metadata": {
        "id": "qby3XDrfC3vF",
        "colab": {
          "base_uri": "https://localhost:8080/"
        },
        "outputId": "8ff5c60e-4c6e-42f4-a85b-becea4a209c2"
      },
      "outputs": [
        {
          "output_type": "execute_result",
          "data": {
            "text/plain": [
              "0.008421647916552755"
            ]
          },
          "metadata": {},
          "execution_count": 14
        }
      ],
      "source": [
        "# the same of using the @ operator on the bias direction\n",
        "\n",
        "w2v_small_gender_bias.project_on_direction(neutral_profession_names[0])"
      ]
    },
    {
      "cell_type": "markdown",
      "metadata": {
        "id": "th7UryxdC3vF"
      },
      "source": [
        "**Let's visualize the projections of professions (neutral and specific by the orthography) on the gender direction**"
      ]
    },
    {
      "cell_type": "code",
      "execution_count": null,
      "metadata": {
        "id": "juiycs76C3vF",
        "colab": {
          "base_uri": "https://localhost:8080/",
          "height": 621
        },
        "outputId": "0a68477a-eea9-43a1-e92e-5ad333fca703"
      },
      "outputs": [
        {
          "output_type": "display_data",
          "data": {
            "text/plain": [
              "<Figure size 720x720 with 1 Axes>"
            ],
            "image/png": "[encoded data removed]"
          },
          "metadata": {
            "needs_background": "light"
          }
        }
      ],
      "source": [
        "import matplotlib.pylab as plt\n",
        "\n",
        "f, ax = plt.subplots(1, figsize=(10, 10))\n",
        "\n",
        "w2v_small_gender_bias.plot_projection_scores(n_extreme=20, ax=ax);"
      ]
    },
    {
      "cell_type": "markdown",
      "metadata": {
        "id": "K1MgiofyC3vF"
      },
      "source": [
        "EXTRA: Demo - Visualizing gender bias with [Word Clouds](http://wordbias.umiacs.umd.edu/)"
      ]
    },
    {
      "cell_type": "markdown",
      "metadata": {
        "id": "1IlRykZjC3vG"
      },
      "source": [
        "## 5.8 - Are the projections of occupation words on the gender direction related to the real world?\n",
        "\n",
        "Let's take the percentage of female in various occupations from the Labor Force Statistics of 2017 Population Survey.\n",
        "\n",
        "Taken from: https://arxiv.org/abs/1804.06876"
      ]
    },
    {
      "cell_type": "code",
      "execution_count": null,
      "metadata": {
        "id": "-xrMYFBXC3vG",
        "colab": {
          "base_uri": "https://localhost:8080/"
        },
        "outputId": "41445266-7d69-43c2-dc6d-80bbe22ca2f0"
      },
      "outputs": [
        {
          "output_type": "execute_result",
          "data": {
            "text/plain": [
              "[('carpenter', 2),\n",
              " ('mechanician', 4),\n",
              " ('construction_worker', 4),\n",
              " ('laborer', 4),\n",
              " ('driver', 6),\n",
              " ('sheriff', 14),\n",
              " ('mover', 18),\n",
              " ('developer', 20),\n",
              " ('farmer', 22),\n",
              " ('guard', 22),\n",
              " ('chief', 27),\n",
              " ('janitor', 34),\n",
              " ('lawyer', 35),\n",
              " ('cook', 38),\n",
              " ('physician', 38),\n",
              " ('ceo', 39),\n",
              " ('analyst', 41),\n",
              " ('manager', 43),\n",
              " ('supervisor', 44),\n",
              " ('salesperson', 48),\n",
              " ('editor', 52),\n",
              " ('designers', 54),\n",
              " ('accountant', 61),\n",
              " ('auditor', 61),\n",
              " ('writer', 63),\n",
              " ('baker', 65),\n",
              " ('clerk', 72),\n",
              " ('cashier', 73),\n",
              " ('counselors', 73),\n",
              " ('attendant', 76),\n",
              " ('teacher', 78),\n",
              " ('sewer', 80),\n",
              " ('librarian', 84),\n",
              " ('assistant', 85),\n",
              " ('cleaner', 89),\n",
              " ('housekeeper', 89),\n",
              " ('nurse', 90),\n",
              " ('receptionist', 90),\n",
              " ('hairdressers', 92),\n",
              " ('secretary', 95)]"
            ]
          },
          "metadata": {},
          "execution_count": 5
        }
      ],
      "source": [
        "from operator import itemgetter  # 🛠️ For idiomatic sorting in Python\n",
        "\n",
        "from responsibly.we.data import OCCUPATION_FEMALE_PRECENTAGE\n",
        "\n",
        "sorted(OCCUPATION_FEMALE_PRECENTAGE.items(), key=itemgetter(1))"
      ]
    },
    {
      "cell_type": "code",
      "source": [
        "dir(responsibly.we.data)\n",
        "# from responsibly.we.data import OCCUPATION_MALE_PRECENTAGE\n",
        "\n",
        "# for i in sorted(OCCUPATION_MALE_PRECENTAGE.items(), key=itemgetter(1)):\n",
        "#   print(i[0])"
      ],
      "metadata": {
        "colab": {
          "base_uri": "https://localhost:8080/"
        },
        "id": "r5_kDFw8PQUv",
        "outputId": "246cfd91-ed57-4aa7-f790-63508fb58bdf"
      },
      "execution_count": null,
      "outputs": [
        {
          "output_type": "execute_result",
          "data": {
            "text/plain": [
              "['BOLUKBASI_DATA',\n",
              " 'KeyedVectors',\n",
              " 'OCCUPATION_FEMALE_PRECENTAGE',\n",
              " 'WEAT_DATA',\n",
              " '__builtins__',\n",
              " '__cached__',\n",
              " '__doc__',\n",
              " '__file__',\n",
              " '__loader__',\n",
              " '__name__',\n",
              " '__package__',\n",
              " '__path__',\n",
              " '__spec__',\n",
              " 'json',\n",
              " 'load_json_resource',\n",
              " 'load_w2v_small',\n",
              " 'resource_filename',\n",
              " 'resource_string',\n",
              " 'warnings']"
            ]
          },
          "metadata": {},
          "execution_count": 10
        }
      ]
    },
    {
      "cell_type": "code",
      "execution_count": null,
      "metadata": {
        "id": "i2j4_uCFC3vG",
        "outputId": "f8eca60b-fd64-4098-fd0c-52cbc9396f95",
        "colab": {
          "base_uri": "https://localhost:8080/",
          "height": 513
        }
      },
      "outputs": [
        {
          "output_type": "display_data",
          "data": {
            "text/plain": [
              "<Figure size 720x576 with 1 Axes>"
            ],
            "image/png": "[encoded data removed]"
          },
          "metadata": {
            "needs_background": "light"
          }
        }
      ],
      "source": [
        "f, ax = plt.subplots(1, figsize=(10, 8))\n",
        "\n",
        "w2v_small_gender_bias.plot_factual_association(ax=ax);"
      ]
    },
    {
      "cell_type": "markdown",
      "metadata": {
        "id": "Vrfs4qf5C3vG"
      },
      "source": [
        "### Also: Word embeddings quantify 100 years of gender stereotypes\n",
        "\n",
        "Garg, N., Schiebinger, L., Jurafsky, D., & Zou, J. (2018). [Word embeddings quantify 100 years of gender and ethnic stereotypes](https://www.pnas.org/content/pnas/115/16/E3635.full.pdf). Proceedings of the National Academy of Sciences, 115(16), E3635-E3644.\n",
        "\n",
        "\n",
        "\n",
        "<small>Data: Google Books/Corpus of Historical American English (COHA)</small>\n",
        "\n",
        "Word embedding is sometimes used to analyze a collection of text in **digital humanities** - putting a system into a human context."
      ]
    },
    {
      "cell_type": "markdown",
      "metadata": {
        "id": "yaisUYOxC3vG"
      },
      "source": [
        "🧪 Quite strong and interesting observation! We used \"external\" data which wan't used directly to create the word embedding.\n",
        "\n",
        "It takes us to think about the *data generation process* - in both cases it is the \"world\", but it will be difficult to argue for causality only in one direction:\n",
        "1. Text in newspapers\n",
        "2. Employment by gender"
      ]
    },
    {
      "cell_type": "markdown",
      "metadata": {
        "id": "KwZmL19LC3vG"
      },
      "source": [
        "## 5.9 - Bias Measure\n",
        "\n",
        "1. Project each **neutral profession names** on the gender direction\n",
        "2. Calculate the absolute value of each projection\n",
        "3. Average it all"
      ]
    },
    {
      "cell_type": "code",
      "execution_count": null,
      "metadata": {
        "id": "MdXFI9EqC3vG",
        "outputId": "81dcfb97-e7a2-44f1-ec78-d8ef077c5e14",
        "colab": {
          "base_uri": "https://localhost:8080/"
        }
      },
      "outputs": [
        {
          "output_type": "execute_result",
          "data": {
            "text/plain": [
              "0.07307905466893876"
            ]
          },
          "metadata": {},
          "execution_count": 71
        }
      ],
      "source": [
        "# using responsibly\n",
        "\n",
        "w2v_small_gender_bias.calc_direct_bias()"
      ]
    },
    {
      "cell_type": "code",
      "execution_count": null,
      "metadata": {
        "id": "MbB7U8IFC3vH"
      },
      "outputs": [],
      "source": [
        "# what responsibly does:\n",
        "\n",
        "neutral_profession_projections = [w2v_small[word] @ w2v_small_gender_bias.direction\n",
        "                                  for word in neutral_profession_names]\n",
        "\n",
        "abs_neutral_profession_projections = [abs(proj) for proj in neutral_profession_projections]\n",
        "\n",
        "sum(abs_neutral_profession_projections) / len(abs_neutral_profession_projections)"
      ]
    },
    {
      "cell_type": "markdown",
      "metadata": {
        "id": "Dv_Zav4DC3vH"
      },
      "source": [
        "🧪 What are the assumptions of the direct bias measure? How the choice of neutral word effect on the definition of the bias?"
      ]
    },
    {
      "cell_type": "markdown",
      "metadata": {
        "id": "YacvyFIIC3vL"
      },
      "source": [
        "# Part Six: Back to Psychology...\n",
        "<big>💎</big>\n",
        "\n",
        "- Let's look on another metric, called **WEAT** (Word Embedding Association Test) which is inspired by **IAT** (Implicit-Association Test) from Pyschology.\n",
        "\n",
        "- Try IAT by yourself: https://implicit.harvard.edu/implicit/\n",
        "\n",
        "**Caliskan, A., Bryson, J. J., & Narayanan, A. (2017). [Semantics derived automatically from language corpora contain human-like biases.](http://www.cs.bath.ac.uk/~jjb/ftp/CaliskanEtAl-authors-full.pdf) Science, 356(6334), 183-186.**\n",
        "\n",
        "\n",
        "## 9.1 - Ingredients\n",
        "\n",
        "1. Attribute words (e.g., Male ve. Female)\n",
        "\n",
        "2. Target words (e.g., Math vs. Arts)"
      ]
    },
    {
      "cell_type": "code",
      "execution_count": null,
      "metadata": {
        "id": "iGP_L_7RC3vL"
      },
      "outputs": [],
      "source": [
        "from responsibly.we import load_w2v_small\n",
        "\n",
        "w2v_small = load_w2v_small()"
      ]
    },
    {
      "cell_type": "code",
      "execution_count": null,
      "metadata": {
        "id": "j79iz-KBC3vM"
      },
      "outputs": [],
      "source": [
        "# 🛠️ For copying a nested data structure in Python\n",
        "from copy import deepcopy\n",
        "\n",
        "from responsibly.we.weat import WEAT_DATA\n",
        "\n",
        "# B. A. Nosek, M. R. Banaji, A. G. Greenwald, Math=male, me=female, therefore math≠me.,\n",
        "# Journal of Personality and Social Psychology 83, 44 (2002).\n",
        "weat_gender_science_arts = deepcopy(WEAT_DATA[7])"
      ]
    },
    {
      "cell_type": "code",
      "execution_count": null,
      "metadata": {
        "id": "QyTkAjlUC3vM"
      },
      "outputs": [],
      "source": [
        "# 🛠️ filter words from the original IAT experiment that are not presend in the reduced Word2Vec model\n",
        "\n",
        "from responsibly.we.weat import _filter_by_model_weat_stimuli\n",
        "\n",
        "_filter_by_model_weat_stimuli(weat_gender_science_arts, w2v_small)"
      ]
    },
    {
      "cell_type": "code",
      "execution_count": null,
      "metadata": {
        "id": "g_Rjk5lYC3vM",
        "colab": {
          "base_uri": "https://localhost:8080/"
        },
        "outputId": "8e5b9ccf-167c-4f80-bcd2-322fd3a5c37c"
      },
      "outputs": [
        {
          "output_type": "execute_result",
          "data": {
            "text/plain": [
              "{'name': 'Male terms',\n",
              " 'words': ['brother',\n",
              "  'father',\n",
              "  'grandfather',\n",
              "  'he',\n",
              "  'him',\n",
              "  'his',\n",
              "  'son',\n",
              "  'uncle']}"
            ]
          },
          "metadata": {},
          "execution_count": 24
        }
      ],
      "source": [
        "weat_gender_science_arts['first_attribute']"
      ]
    },
    {
      "cell_type": "code",
      "execution_count": null,
      "metadata": {
        "id": "p3Ix3XZfC3vM",
        "colab": {
          "base_uri": "https://localhost:8080/"
        },
        "outputId": "0f619d8d-1d92-45f1-a200-6a420360cc3b"
      },
      "outputs": [
        {
          "output_type": "execute_result",
          "data": {
            "text/plain": [
              "{'name': 'Female terms',\n",
              " 'words': ['aunt',\n",
              "  'daughter',\n",
              "  'grandmother',\n",
              "  'her',\n",
              "  'hers',\n",
              "  'mother',\n",
              "  'she',\n",
              "  'sister']}"
            ]
          },
          "metadata": {},
          "execution_count": 25
        }
      ],
      "source": [
        "weat_gender_science_arts['second_attribute']"
      ]
    },
    {
      "cell_type": "code",
      "execution_count": null,
      "metadata": {
        "id": "g6agv1aFC3vN",
        "colab": {
          "base_uri": "https://localhost:8080/"
        },
        "outputId": "c4fd9ec6-7572-4b25-b530-d1148b8f9586"
      },
      "outputs": [
        {
          "output_type": "execute_result",
          "data": {
            "text/plain": [
              "{'name': 'Science',\n",
              " 'words': ['astronomy',\n",
              "  'chemistry',\n",
              "  'experiment',\n",
              "  'physics',\n",
              "  'science',\n",
              "  'technology']}"
            ]
          },
          "metadata": {},
          "execution_count": 26
        }
      ],
      "source": [
        "weat_gender_science_arts['first_target']"
      ]
    },
    {
      "cell_type": "code",
      "execution_count": null,
      "metadata": {
        "id": "XFDSnSirC3vN",
        "colab": {
          "base_uri": "https://localhost:8080/"
        },
        "outputId": "e6989dad-3f82-485c-8d76-c7033bd0e3bc"
      },
      "outputs": [
        {
          "output_type": "execute_result",
          "data": {
            "text/plain": [
              "{'name': 'Arts',\n",
              " 'words': ['dance', 'drama', 'literature', 'novel', 'poetry', 'symphony']}"
            ]
          },
          "metadata": {},
          "execution_count": 27
        }
      ],
      "source": [
        "weat_gender_science_arts['second_target']"
      ]
    },
    {
      "cell_type": "markdown",
      "metadata": {
        "id": "tvdGg3BxC3vN"
      },
      "source": [
        "## 6.2 - Recipe\n",
        "\n",
        "➕ Male x Science\n",
        "\n",
        "➖ Male x Arts\n",
        "\n",
        "➖ Female x Science\n",
        "\n",
        "➕ Female x Arts"
      ]
    },
    {
      "cell_type": "code",
      "execution_count": null,
      "metadata": {
        "id": "PwyKfv_5C3vN"
      },
      "outputs": [],
      "source": [
        "def calc_combination_similiarity(model, attribute, target):\n",
        "    score = 0\n",
        "\n",
        "    for attribute_word in attribute['words']:\n",
        "\n",
        "        for target_word in target['words']:\n",
        "\n",
        "            score += w2v_small.similarity(attribute_word,\n",
        "                                          target_word)\n",
        "\n",
        "    return score"
      ]
    },
    {
      "cell_type": "code",
      "execution_count": null,
      "metadata": {
        "id": "YenqrQ3qC3vN",
        "colab": {
          "base_uri": "https://localhost:8080/"
        },
        "outputId": "062d6f72-3d4c-494d-f9b1-4ccaee0baac9"
      },
      "outputs": [
        {
          "output_type": "execute_result",
          "data": {
            "text/plain": [
              "3.0811213604174554"
            ]
          },
          "metadata": {},
          "execution_count": 28
        }
      ],
      "source": [
        "male_science_score = calc_combination_similiarity(w2v_small,\n",
        "                                                  weat_gender_science_arts['first_attribute'],\n",
        "                                                  weat_gender_science_arts['first_target'])\n",
        "\n",
        "male_science_score"
      ]
    },
    {
      "cell_type": "code",
      "execution_count": null,
      "metadata": {
        "id": "IHpOPD76C3vN",
        "colab": {
          "base_uri": "https://localhost:8080/"
        },
        "outputId": "0d575646-4230-4f53-8b02-6563092b4388"
      },
      "outputs": [
        {
          "output_type": "execute_result",
          "data": {
            "text/plain": [
              "3.8449553288519382"
            ]
          },
          "metadata": {},
          "execution_count": 29
        }
      ],
      "source": [
        "male_arts_score = calc_combination_similiarity(w2v_small,\n",
        "                                               weat_gender_science_arts['first_attribute'],\n",
        "                                               weat_gender_science_arts['second_target'])\n",
        "\n",
        "male_arts_score"
      ]
    },
    {
      "cell_type": "code",
      "execution_count": null,
      "metadata": {
        "id": "BBgm_DLuC3vN",
        "colab": {
          "base_uri": "https://localhost:8080/"
        },
        "outputId": "d4ec0d85-e0be-4fb7-875a-5f97af918687"
      },
      "outputs": [
        {
          "output_type": "execute_result",
          "data": {
            "text/plain": [
              "2.9657545754453167"
            ]
          },
          "metadata": {},
          "execution_count": 30
        }
      ],
      "source": [
        "female_science_score = calc_combination_similiarity(w2v_small,\n",
        "                                                    weat_gender_science_arts['second_attribute'],\n",
        "                                                    weat_gender_science_arts['first_target'])\n",
        "\n",
        "female_science_score"
      ]
    },
    {
      "cell_type": "code",
      "execution_count": null,
      "metadata": {
        "id": "vhuoitgoC3vN",
        "colab": {
          "base_uri": "https://localhost:8080/"
        },
        "outputId": "cd5d36dc-5be3-4780-8161-cd38e0f068fd"
      },
      "outputs": [
        {
          "output_type": "execute_result",
          "data": {
            "text/plain": [
              "6.15777819044888"
            ]
          },
          "metadata": {},
          "execution_count": 31
        }
      ],
      "source": [
        "female_arts_score = calc_combination_similiarity(w2v_small,\n",
        "                                                 weat_gender_science_arts['second_attribute'],\n",
        "                                                 weat_gender_science_arts['second_target'])\n",
        "\n",
        "female_arts_score"
      ]
    },
    {
      "cell_type": "code",
      "execution_count": null,
      "metadata": {
        "id": "2dfCEEI9C3vO",
        "colab": {
          "base_uri": "https://localhost:8080/"
        },
        "outputId": "c2421d77-e48c-4e06-98dd-183aa04bd999"
      },
      "outputs": [
        {
          "output_type": "execute_result",
          "data": {
            "text/plain": [
              "2.4281896465690807"
            ]
          },
          "metadata": {},
          "execution_count": 32
        }
      ],
      "source": [
        "male_science_score - male_arts_score - female_science_score + female_arts_score"
      ]
    },
    {
      "cell_type": "code",
      "execution_count": null,
      "metadata": {
        "id": "umaznjxuC3vO",
        "colab": {
          "base_uri": "https://localhost:8080/"
        },
        "outputId": "33297e34-cff3-4518-a874-eaa5de0a686f"
      },
      "outputs": [
        {
          "output_type": "execute_result",
          "data": {
            "text/plain": [
              "8"
            ]
          },
          "metadata": {},
          "execution_count": 33
        }
      ],
      "source": [
        "len(weat_gender_science_arts['first_attribute']['words'])"
      ]
    },
    {
      "cell_type": "code",
      "execution_count": null,
      "metadata": {
        "id": "tCuSX-_bC3vO",
        "colab": {
          "base_uri": "https://localhost:8080/"
        },
        "outputId": "b1f3f3b1-b9e7-40a0-8a30-8a933a3a1039"
      },
      "outputs": [
        {
          "output_type": "execute_result",
          "data": {
            "text/plain": [
              "0.3035237058211351"
            ]
          },
          "metadata": {},
          "execution_count": 34
        }
      ],
      "source": [
        "# gender bias in total (normalized)\n",
        "(male_science_score - male_arts_score - female_science_score + female_arts_score) / 8"
      ]
    },
    {
      "cell_type": "markdown",
      "metadata": {
        "id": "zMJQggN3C3vO"
      },
      "source": [
        "## 6.3 - All WEAT Tests"
      ]
    },
    {
      "cell_type": "code",
      "execution_count": null,
      "metadata": {
        "id": "6YK12PWDC3vO",
        "outputId": "c8f5dd76-7ba4-43d3-89bd-987e714515d7",
        "colab": {
          "base_uri": "https://localhost:8080/",
          "height": 129
        }
      },
      "outputs": [
        {
          "output_type": "execute_result",
          "data": {
            "text/plain": [
              "       Target words                Attrib. words   Nt   Na       s       d  \\\n",
              "0  Science vs. Arts  Male terms vs. Female terms  6x2  8x2  0.3035  1.3731   \n",
              "\n",
              "         p  \n",
              "0  8.7e-03  "
            ],
            "text/html": [
              "\n",
              "  <div id=\"df-8a0ee0ab-18bb-4a4a-8b7e-9ff2e69dc7b9\">\n",
              "    <div class=\"colab-df-container\">\n",
              "      <div>\n",
              "<style scoped>\n",
              "    .dataframe tbody tr th:only-of-type {\n",
              "        vertical-align: middle;\n",
              "    }\n",
              "\n",
              "    .dataframe tbody tr th {\n",
              "        vertical-align: top;\n",
              "    }\n",
              "\n",
              "    .dataframe thead th {\n",
              "        text-align: right;\n",
              "    }\n",
              "</style>\n",
              "<table border=\"1\" class=\"dataframe\">\n",
              "  <thead>\n",
              "    <tr style=\"text-align: right;\">\n",
              "      <th></th>\n",
              "      <th>Target words</th>\n",
              "      <th>Attrib. words</th>\n",
              "      <th>Nt</th>\n",
              "      <th>Na</th>\n",
              "      <th>s</th>\n",
              "      <th>d</th>\n",
              "      <th>p</th>\n",
              "    </tr>\n",
              "  </thead>\n",
              "  <tbody>\n",
              "    <tr>\n",
              "      <th>0</th>\n",
              "      <td>Science vs. Arts</td>\n",
              "      <td>Male terms vs. Female terms</td>\n",
              "      <td>6x2</td>\n",
              "      <td>8x2</td>\n",
              "      <td>0.3035</td>\n",
              "      <td>1.3731</td>\n",
              "      <td>8.7e-03</td>\n",
              "    </tr>\n",
              "  </tbody>\n",
              "</table>\n",
              "</div>\n",
              "      <button class=\"colab-df-convert\" onclick=\"convertToInteractive('df-8a0ee0ab-18bb-4a4a-8b7e-9ff2e69dc7b9')\"\n",
              "              title=\"Convert this dataframe to an interactive table.\"\n",
              "              style=\"display:none;\">\n",
              "        \n",
              "  <svg xmlns=\"http://www.w3.org/2000/svg\" height=\"24px\"viewBox=\"0 0 24 24\"\n",
              "       width=\"24px\">\n",
              "    <path d=\"M0 0h24v24H0V0z\" fill=\"none\"/>\n",
              "    <path d=\"M18.56 5.44l.94 2.06.94-2.06 2.06-.94-2.06-.94-.94-2.06-.94 2.06-2.06.94zm-11 1L8.5 8.5l.94-2.06 2.06-.94-2.06-.94L8.5 2.5l-.94 2.06-2.06.94zm10 10l.94 2.06.94-2.06 2.06-.94-2.06-.94-.94-2.06-.94 2.06-2.06.94z\"/><path d=\"M17.41 7.96l-1.37-1.37c-.4-.4-.92-.59-1.43-.59-.52 0-1.04.2-1.43.59L10.3 9.45l-7.72 7.72c-.78.78-.78 2.05 0 2.83L4 21.41c.39.39.9.59 1.41.59.51 0 1.02-.2 1.41-.59l7.78-7.78 2.81-2.81c.8-.78.8-2.07 0-2.86zM5.41 20L4 18.59l7.72-7.72 1.47 1.35L5.41 20z\"/>\n",
              "  </svg>\n",
              "      </button>\n",
              "      \n",
              "  <style>\n",
              "    .colab-df-container {\n",
              "      display:flex;\n",
              "      flex-wrap:wrap;\n",
              "      gap: 12px;\n",
              "    }\n",
              "\n",
              "    .colab-df-convert {\n",
              "      background-color: #E8F0FE;\n",
              "      border: none;\n",
              "      border-radius: 50%;\n",
              "      cursor: pointer;\n",
              "      display: none;\n",
              "      fill: #1967D2;\n",
              "      height: 32px;\n",
              "      padding: 0 0 0 0;\n",
              "      width: 32px;\n",
              "    }\n",
              "\n",
              "    .colab-df-convert:hover {\n",
              "      background-color: #E2EBFA;\n",
              "      box-shadow: 0px 1px 2px rgba(60, 64, 67, 0.3), 0px 1px 3px 1px rgba(60, 64, 67, 0.15);\n",
              "      fill: #174EA6;\n",
              "    }\n",
              "\n",
              "    [theme=dark] .colab-df-convert {\n",
              "      background-color: #3B4455;\n",
              "      fill: #D2E3FC;\n",
              "    }\n",
              "\n",
              "    [theme=dark] .colab-df-convert:hover {\n",
              "      background-color: #434B5C;\n",
              "      box-shadow: 0px 1px 3px 1px rgba(0, 0, 0, 0.15);\n",
              "      filter: drop-shadow(0px 1px 2px rgba(0, 0, 0, 0.3));\n",
              "      fill: #FFFFFF;\n",
              "    }\n",
              "  </style>\n",
              "\n",
              "      <script>\n",
              "        const buttonEl =\n",
              "          document.querySelector('#df-8a0ee0ab-18bb-4a4a-8b7e-9ff2e69dc7b9 button.colab-df-convert');\n",
              "        buttonEl.style.display =\n",
              "          google.colab.kernel.accessAllowed ? 'block' : 'none';\n",
              "\n",
              "        async function convertToInteractive(key) {\n",
              "          const element = document.querySelector('#df-8a0ee0ab-18bb-4a4a-8b7e-9ff2e69dc7b9');\n",
              "          const dataTable =\n",
              "            await google.colab.kernel.invokeFunction('convertToInteractive',\n",
              "                                                     [key], {});\n",
              "          if (!dataTable) return;\n",
              "\n",
              "          const docLinkHtml = 'Like what you see? Visit the ' +\n",
              "            '<a target=\"_blank\" href=https://colab.research.google.com/notebooks/data_table.ipynb>data table notebook</a>'\n",
              "            + ' to learn more about interactive tables.';\n",
              "          element.innerHTML = '';\n",
              "          dataTable['output_type'] = 'display_data';\n",
              "          await google.colab.output.renderOutput(dataTable, element);\n",
              "          const docLink = document.createElement('div');\n",
              "          docLink.innerHTML = docLinkHtml;\n",
              "          element.appendChild(docLink);\n",
              "        }\n",
              "      </script>\n",
              "    </div>\n",
              "  </div>\n",
              "  "
            ]
          },
          "metadata": {},
          "execution_count": 35
        }
      ],
      "source": [
        "from responsibly.we import calc_all_weat\n",
        "\n",
        "calc_all_weat(w2v_small, [weat_gender_science_arts])"
      ]
    },
    {
      "cell_type": "markdown",
      "metadata": {
        "id": "r3QNqiT9C3vO"
      },
      "source": [
        "### ⚡ Important Note: Our results are a bit different from the paper because we use a reduced Word2Vec.\n",
        "\n",
        "### ⚡Caveats\n",
        "\n",
        "#### Comparing WEAT to the IAT\n",
        "\n",
        "- Individuals (IAT) vs. Words (WEAT)\n",
        "- Therefore, the meanings of the effect size and p-value are totally different!\n",
        "\n",
        "#### ⚡🦄 WEAT score definition\n",
        "\n",
        "The definition of the WEAT score is structured differently (but it is computationally equivalent). The original formulation matters to compute the p-value. Refer to the paper for details.\n",
        "\n",
        "### 🧪 Effect size comparision between human and machine bias\n",
        "\n",
        "With the effect size, we can \"compare\" a human bias to a machine one. It raises the question whether the baseline for meauring bias/fairness of a machine should be human bias? Then a well-performing machine shouldn't be necessarily not biased, but only less biased than human (think about autonomous cars or semi-structured vs. unstructured interview)."
      ]
    },
    {
      "cell_type": "markdown",
      "metadata": {
        "id": "b9beH0kaC3vP"
      },
      "source": [
        "## 6.4 - WEAT vs. IAT\n",
        "\n",
        "Lewis, M., & Lupyan, G. [What are we learning from language? Associations between gender biases and distributional semantics in 25 languages](https://mollylewis.shinyapps.io/iatlang_SI/).\n",
        "\n",
        "\n",
        "1. Implicit male-career association (adjusted for participant age, gender, and congruent/incongruent block order) as a function of the linguistic male-career association derived from word-embeddings *r*(23) = 0.48 [0.11, 0.74]; *p* = 0.01; *n* = 25; Study 1b). Each point corresponds to a language. The size of the point is proportional to the number of participants who come from the country in which the language is dominant (total = 656,636 participants). Linguistic associations are estimated from models trained on text in each language from the Wikipedia corpus. Larger values indicate a greater tendency to associate men with the concept of career and women with the concept of family.\n",
        "\n",
        "2. Difference (UK minus US) in implicit association versus linguistic association for 31 IAT types (*N* = 27,045 participants). Error bands indicate standard error of the linear model estimate.\n"
      ]
    },
    {
      "cell_type": "markdown",
      "source": [
        "## 6.5 Representational Dissimilarity Matrix (RDM) --> for RSA (next week)"
      ],
      "metadata": {
        "id": "jx89QCOfS1J7"
      }
    },
    {
      "cell_type": "code",
      "source": [
        "from itertools import combinations\n",
        "from scipy.spatial.distance import cosine\n",
        "\n",
        "occupation_words = BOLUKBASI_DATA['gender']['profession_names'][:10] + BOLUKBASI_DATA['gender']['profession_names'][-10:]\n",
        "\n",
        "# Get word embeddings for occupation words\n",
        "occupation_embeddings = np.array([w2v_small.get_vector(word) for word in occupation_words])\n",
        "\n",
        "# Compute the RDM\n",
        "n_words = len(occupation_words)\n",
        "rdm = np.zeros((n_words, n_words))\n",
        "for i, j in combinations(range(n_words), 2):\n",
        "    rdm[i, j] = cosine(occupation_embeddings[i], occupation_embeddings[j])\n",
        "    rdm[j, i] = rdm[i, j]\n",
        "print(rdm[:5])\n"
      ],
      "metadata": {
        "colab": {
          "base_uri": "https://localhost:8080/"
        },
        "id": "ZTxw8ffrS77S",
        "outputId": "b0936c07-a8e1-4508-a85f-340838d42d9e"
      },
      "execution_count": null,
      "outputs": [
        {
          "output_type": "stream",
          "name": "stdout",
          "text": [
            "[[0.         0.70701304 0.75830077 0.83760637 0.62261689 0.54834634\n",
            "  0.7615822  0.72220445 0.68124652 0.68964475 0.80281734 0.85229631\n",
            "  0.6752722  0.66510892 0.78749308 0.91341248 0.62734964 0.66489133\n",
            "  0.8277681  0.80715141]\n",
            " [0.70701304 0.         0.74871647 0.79468158 0.79807039 0.82200164\n",
            "  0.75619672 0.82516357 0.63958007 0.79852113 0.74846885 0.81831388\n",
            "  0.664377   0.60787612 0.84934142 0.85673533 0.79061854 0.71810579\n",
            "  0.82690336 0.74639034]\n",
            " [0.75830077 0.74871647 0.         0.20699912 0.84438199 0.90139715\n",
            "  0.60024774 0.81114259 0.83256261 0.81494153 0.69196963 0.64289781\n",
            "  0.70052153 0.74936047 0.86877033 0.73653838 0.78542127 0.80012183\n",
            "  0.65508056 0.5753971 ]\n",
            " [0.83760637 0.79468158 0.20699912 0.         0.88421842 0.911044\n",
            "  0.72827187 0.8271087  0.84729438 0.84755817 0.67660218 0.61763105\n",
            "  0.77915861 0.61283585 0.89928854 0.83699018 0.86935738 0.78103147\n",
            "  0.77719173 0.65508816]\n",
            " [0.62261689 0.79807039 0.84438199 0.88421842 0.         0.62936041\n",
            "  0.8609208  0.66978756 0.7604     0.77735005 0.8034085  0.84606972\n",
            "  0.88452362 0.86911419 0.86420393 0.89648417 0.76381505 0.84421891\n",
            "  0.90265324 0.76982279]]\n"
          ]
        }
      ]
    },
    {
      "cell_type": "code",
      "source": [
        "import matplotlib.pyplot as plt\n",
        "\n",
        "# Create heatmap of representational dissimilarity matrix\n",
        "plt.imshow(rdm, cmap='coolwarm')\n",
        "plt.colorbar()\n",
        "plt.xticks(range(len(occupation_words)), occupation_words, rotation=90)\n",
        "plt.yticks(range(len(occupation_words)), occupation_words)\n",
        "plt.title('Representational dissimilarity matrix for occupation words')\n",
        "plt.show()\n"
      ],
      "metadata": {
        "colab": {
          "base_uri": "https://localhost:8080/",
          "height": 361
        },
        "id": "2FyRXL_-TT5U",
        "outputId": "f77234ec-f5ed-4b16-e713-7930d9329dc9"
      },
      "execution_count": null,
      "outputs": [
        {
          "output_type": "display_data",
          "data": {
            "text/plain": [
              "<Figure size 432x288 with 2 Axes>"
            ],
            "image/png": "[encoded data removed]"
          },
          "metadata": {
            "needs_background": "light"
          }
        }
      ]
    },
    {
      "cell_type": "markdown",
      "metadata": {
        "id": "EVMLVzKaTM5-"
      },
      "source": [
        "# Part Seven: Your Turn!\n",
        "<big>⌨️</big>\n",
        "\n",
        "Note: The first two tasks require a basic background in Python programming. For the last task, you need some experience with Machine Learning and Natural Langauge Processing (NLP) as well."
      ]
    },
    {
      "cell_type": "markdown",
      "metadata": {
        "id": "gPVjrwpwTM6G"
      },
      "source": [
        "## Task 1 - Racial bias\n",
        "\n",
        "Let's explor racial bias usint Tolga's approche. Will use the [`responsibly.we.BiasWordEmbedding`](http://docs.responsibly.ai/word-embedding-bias.html#ethically.we.bias.BiasWordEmbedding) class. `GenderBiasWE` is a sub-class of `BiasWordEmbedding`."
      ]
    },
    {
      "cell_type": "code",
      "execution_count": null,
      "metadata": {
        "id": "8gB82y7hTM6H"
      },
      "outputs": [],
      "source": [
        "from responsibly.we import BiasWordEmbedding\n",
        "\n",
        "w2v_small_racial_bias = BiasWordEmbedding(w2v_small, only_lower=True)"
      ]
    },
    {
      "cell_type": "markdown",
      "metadata": {
        "id": "V5Pa-_OOTM6J"
      },
      "source": [
        "💎💎💎 Identify the racial direction using the `sum` method"
      ]
    },
    {
      "cell_type": "code",
      "execution_count": null,
      "metadata": {
        "id": "d8NjJ3fPTM6K"
      },
      "outputs": [],
      "source": [
        "white_common_names = ['Emily', 'Anne', 'Jill', 'Allison', 'Laurie', 'Sarah', 'Meredith', 'Carrie',\n",
        "                      'Kristen', 'Todd', 'Neil', 'Geoffrey', 'Brett', 'Brendan', 'Greg', 'Matthew',\n",
        "                      'Jay', 'Brad']\n",
        "\n",
        "black_common_names = ['Aisha', 'Keisha', 'Tamika', 'Lakisha', 'Tanisha', 'Latoya', 'Kenya', 'Latonya',\n",
        "                      'Ebony', 'Rasheed', 'Tremayne', 'Kareem', 'Darnell', 'Tyrone', 'Hakim', 'Jamal',\n",
        "                      'Leroy', 'Jermaine']\n",
        "\n",
        "w2v_small_racial_bias._identify_direction('Whites', 'Blacks',\n",
        "                                          definitional=(white_common_names, black_common_names),\n",
        "                                          method='sum')"
      ]
    },
    {
      "cell_type": "markdown",
      "metadata": {
        "id": "BQzNVMgITM6N"
      },
      "source": [
        "Use the neutral profession names to measure the racial bias"
      ]
    },
    {
      "cell_type": "code",
      "execution_count": null,
      "metadata": {
        "id": "6VsIaNeTTM6N"
      },
      "outputs": [],
      "source": [
        "from responsibly.we.data import BOLUKBASI_DATA\n",
        "\n",
        "neutral_profession_names = BOLUKBASI_DATA['gender']['neutral_profession_names']"
      ]
    },
    {
      "cell_type": "code",
      "execution_count": null,
      "metadata": {
        "id": "iQMUSBpKTM6Q",
        "outputId": "321d4947-d15f-483d-f8d7-f9516a9a9d27",
        "colab": {
          "base_uri": "https://localhost:8080/"
        }
      },
      "outputs": [
        {
          "output_type": "execute_result",
          "data": {
            "text/plain": [
              "('accountant',\n",
              " 'acquaintance',\n",
              " 'actor',\n",
              " 'actress',\n",
              " 'adjunct_professor',\n",
              " 'administrator',\n",
              " 'adventurer',\n",
              " 'advocate',\n",
              " 'aide',\n",
              " 'alderman',\n",
              " 'alter_ego',\n",
              " 'ambassador',\n",
              " 'analyst',\n",
              " 'anthropologist',\n",
              " 'archaeologist',\n",
              " 'archbishop',\n",
              " 'architect',\n",
              " 'artist',\n",
              " 'artiste',\n",
              " 'assassin',\n",
              " 'assistant_professor',\n",
              " 'associate_dean',\n",
              " 'associate_professor',\n",
              " 'astronaut',\n",
              " 'astronomer',\n",
              " 'athlete',\n",
              " 'athletic_director',\n",
              " 'attorney',\n",
              " 'author',\n",
              " 'baker',\n",
              " 'ballerina',\n",
              " 'ballplayer',\n",
              " 'banker',\n",
              " 'barber',\n",
              " 'baron',\n",
              " 'barrister',\n",
              " 'bartender',\n",
              " 'biologist',\n",
              " 'bishop',\n",
              " 'bodyguard',\n",
              " 'bookkeeper',\n",
              " 'boss',\n",
              " 'boxer',\n",
              " 'broadcaster',\n",
              " 'broker',\n",
              " 'bureaucrat',\n",
              " 'businessman',\n",
              " 'businesswoman',\n",
              " 'butcher',\n",
              " 'butler',\n",
              " 'cab_driver',\n",
              " 'cabbie',\n",
              " 'cameraman',\n",
              " 'campaigner',\n",
              " 'captain',\n",
              " 'cardiologist',\n",
              " 'caretaker',\n",
              " 'carpenter',\n",
              " 'cartoonist',\n",
              " 'cellist',\n",
              " 'chancellor',\n",
              " 'chaplain',\n",
              " 'character',\n",
              " 'chef',\n",
              " 'chemist',\n",
              " 'choreographer',\n",
              " 'cinematographer',\n",
              " 'citizen',\n",
              " 'civil_servant',\n",
              " 'cleric',\n",
              " 'clerk',\n",
              " 'coach',\n",
              " 'collector',\n",
              " 'colonel',\n",
              " 'columnist',\n",
              " 'comedian',\n",
              " 'comic',\n",
              " 'commander',\n",
              " 'commentator',\n",
              " 'commissioner',\n",
              " 'composer',\n",
              " 'conductor',\n",
              " 'confesses',\n",
              " 'congressman',\n",
              " 'constable',\n",
              " 'consultant',\n",
              " 'cop',\n",
              " 'correspondent',\n",
              " 'councilman',\n",
              " 'councilor',\n",
              " 'counselor',\n",
              " 'critic',\n",
              " 'crooner',\n",
              " 'crusader',\n",
              " 'curator',\n",
              " 'custodian',\n",
              " 'dad',\n",
              " 'dancer',\n",
              " 'dean',\n",
              " 'dentist',\n",
              " 'deputy',\n",
              " 'dermatologist',\n",
              " 'detective',\n",
              " 'diplomat',\n",
              " 'director',\n",
              " 'disc_jockey',\n",
              " 'doctor',\n",
              " 'doctoral_student',\n",
              " 'drug_addict',\n",
              " 'drummer',\n",
              " 'economics_professor',\n",
              " 'economist',\n",
              " 'editor',\n",
              " 'educator',\n",
              " 'electrician',\n",
              " 'employee',\n",
              " 'entertainer',\n",
              " 'entrepreneur',\n",
              " 'environmentalist',\n",
              " 'envoy',\n",
              " 'epidemiologist',\n",
              " 'evangelist',\n",
              " 'farmer',\n",
              " 'fashion_designer',\n",
              " 'fighter_pilot',\n",
              " 'filmmaker',\n",
              " 'financier',\n",
              " 'firebrand',\n",
              " 'firefighter',\n",
              " 'fireman',\n",
              " 'fisherman',\n",
              " 'footballer',\n",
              " 'foreman',\n",
              " 'freelance_writer',\n",
              " 'gangster',\n",
              " 'gardener',\n",
              " 'geologist',\n",
              " 'goalkeeper',\n",
              " 'graphic_designer',\n",
              " 'guidance_counselor',\n",
              " 'guitarist',\n",
              " 'hairdresser',\n",
              " 'handyman',\n",
              " 'headmaster',\n",
              " 'historian',\n",
              " 'hitman',\n",
              " 'homemaker',\n",
              " 'hooker',\n",
              " 'housekeeper',\n",
              " 'housewife',\n",
              " 'illustrator',\n",
              " 'industrialist',\n",
              " 'infielder',\n",
              " 'inspector',\n",
              " 'instructor',\n",
              " 'interior_designer',\n",
              " 'inventor',\n",
              " 'investigator',\n",
              " 'investment_banker',\n",
              " 'janitor',\n",
              " 'jeweler',\n",
              " 'journalist',\n",
              " 'judge',\n",
              " 'jurist',\n",
              " 'laborer',\n",
              " 'landlord',\n",
              " 'lawmaker',\n",
              " 'lawyer',\n",
              " 'lecturer',\n",
              " 'legislator',\n",
              " 'librarian',\n",
              " 'lieutenant',\n",
              " 'lifeguard',\n",
              " 'lyricist',\n",
              " 'maestro',\n",
              " 'magician',\n",
              " 'magistrate',\n",
              " 'maid',\n",
              " 'major_leaguer',\n",
              " 'manager',\n",
              " 'marksman',\n",
              " 'marshal',\n",
              " 'mathematician',\n",
              " 'mechanic',\n",
              " 'mediator',\n",
              " 'medic',\n",
              " 'midfielder',\n",
              " 'minister',\n",
              " 'missionary',\n",
              " 'mobster',\n",
              " 'monk',\n",
              " 'musician',\n",
              " 'nanny',\n",
              " 'narrator',\n",
              " 'naturalist',\n",
              " 'negotiator',\n",
              " 'neurologist',\n",
              " 'neurosurgeon',\n",
              " 'novelist',\n",
              " 'nun',\n",
              " 'nurse',\n",
              " 'observer',\n",
              " 'officer',\n",
              " 'organist',\n",
              " 'painter',\n",
              " 'paralegal',\n",
              " 'parishioner',\n",
              " 'parliamentarian',\n",
              " 'pastor',\n",
              " 'pathologist',\n",
              " 'patrolman',\n",
              " 'pediatrician',\n",
              " 'performer',\n",
              " 'pharmacist',\n",
              " 'philanthropist',\n",
              " 'philosopher',\n",
              " 'photographer',\n",
              " 'photojournalist',\n",
              " 'physician',\n",
              " 'physicist',\n",
              " 'pianist',\n",
              " 'planner',\n",
              " 'plastic_surgeon',\n",
              " 'playwright',\n",
              " 'plumber',\n",
              " 'poet',\n",
              " 'policeman',\n",
              " 'politician',\n",
              " 'pollster',\n",
              " 'preacher',\n",
              " 'president',\n",
              " 'priest',\n",
              " 'principal',\n",
              " 'prisoner',\n",
              " 'professor',\n",
              " 'professor_emeritus',\n",
              " 'programmer',\n",
              " 'promoter',\n",
              " 'proprietor',\n",
              " 'prosecutor',\n",
              " 'protagonist',\n",
              " 'protege',\n",
              " 'protester',\n",
              " 'provost',\n",
              " 'psychiatrist',\n",
              " 'psychologist',\n",
              " 'publicist',\n",
              " 'pundit',\n",
              " 'rabbi',\n",
              " 'radiologist',\n",
              " 'ranger',\n",
              " 'realtor',\n",
              " 'receptionist',\n",
              " 'registered_nurse',\n",
              " 'researcher',\n",
              " 'restaurateur',\n",
              " 'sailor',\n",
              " 'saint',\n",
              " 'salesman',\n",
              " 'saxophonist',\n",
              " 'scholar',\n",
              " 'scientist',\n",
              " 'screenwriter',\n",
              " 'sculptor',\n",
              " 'secretary',\n",
              " 'senator',\n",
              " 'sergeant',\n",
              " 'servant',\n",
              " 'serviceman',\n",
              " 'sheriff_deputy',\n",
              " 'shopkeeper',\n",
              " 'singer',\n",
              " 'singer_songwriter',\n",
              " 'skipper',\n",
              " 'socialite',\n",
              " 'sociologist',\n",
              " 'soft_spoken',\n",
              " 'soldier',\n",
              " 'solicitor',\n",
              " 'solicitor_general',\n",
              " 'soloist',\n",
              " 'sportsman',\n",
              " 'sportswriter',\n",
              " 'statesman',\n",
              " 'steward',\n",
              " 'stockbroker',\n",
              " 'strategist',\n",
              " 'student',\n",
              " 'stylist',\n",
              " 'substitute',\n",
              " 'superintendent',\n",
              " 'surgeon',\n",
              " 'surveyor',\n",
              " 'swimmer',\n",
              " 'taxi_driver',\n",
              " 'teacher',\n",
              " 'technician',\n",
              " 'teenager',\n",
              " 'therapist',\n",
              " 'trader',\n",
              " 'treasurer',\n",
              " 'trooper',\n",
              " 'trucker',\n",
              " 'trumpeter',\n",
              " 'tutor',\n",
              " 'tycoon',\n",
              " 'undersecretary',\n",
              " 'understudy',\n",
              " 'valedictorian',\n",
              " 'vice_chancellor',\n",
              " 'violinist',\n",
              " 'vocalist',\n",
              " 'waiter',\n",
              " 'waitress',\n",
              " 'warden',\n",
              " 'warrior',\n",
              " 'welder',\n",
              " 'worker',\n",
              " 'wrestler',\n",
              " 'writer')"
            ]
          },
          "metadata": {},
          "execution_count": 23
        }
      ],
      "source": [
        "BOLUKBASI_DATA['gender']['profession_names']"
      ]
    },
    {
      "cell_type": "code",
      "execution_count": null,
      "metadata": {
        "id": "E3appKv5TM6S",
        "outputId": "46e39759-b2c6-4b01-9c0c-40237a3e0a97",
        "colab": {
          "base_uri": "https://localhost:8080/",
          "height": 621
        }
      },
      "outputs": [
        {
          "output_type": "display_data",
          "data": {
            "text/plain": [
              "<Figure size 720x720 with 1 Axes>"
            ],
            "image/png": "[encoded data removed]"
          },
          "metadata": {
            "needs_background": "light"
          }
        }
      ],
      "source": [
        "import matplotlib.pylab as plt\n",
        "\n",
        "f, ax = plt.subplots(1, figsize=(10, 10))\n",
        "\n",
        "w2v_small_racial_bias.plot_projection_scores(neutral_profession_names, n_extreme=20, ax=ax);"
      ]
    },
    {
      "cell_type": "markdown",
      "metadata": {
        "id": "QvmZXAdKTM6Z"
      },
      "source": [
        "Calculate the direct bias measure"
      ]
    },
    {
      "cell_type": "code",
      "execution_count": null,
      "metadata": {
        "id": "80S8S-3hTM6a"
      },
      "outputs": [],
      "source": [
        "# Your Code Here..."
      ]
    },
    {
      "cell_type": "markdown",
      "metadata": {
        "id": "MSFdc0NWTM6d"
      },
      "source": [
        "Keep exploring the racial bias"
      ]
    },
    {
      "cell_type": "code",
      "execution_count": null,
      "metadata": {
        "id": "GDjRDxz_TM6d"
      },
      "outputs": [],
      "source": [
        "# Your Code Here..."
      ]
    },
    {
      "cell_type": "code",
      "execution_count": null,
      "metadata": {
        "id": "hvlhI95-TM6h"
      },
      "outputs": [],
      "source": [
        "from responsibly.we import calc_weat_pleasant_unpleasant_attribute"
      ]
    },
    {
      "cell_type": "code",
      "execution_count": null,
      "metadata": {
        "id": "VMmc9vNwTM6j"
      },
      "outputs": [],
      "source": [
        "# Your Code Here..."
      ]
    },
    {
      "cell_type": "markdown",
      "metadata": {
        "id": "cNldyVC_4O5k"
      },
      "source": [
        "## Task 2 - Racial bias analysis\n",
        "\n",
        "Now we are ready to blend all together. You have two classifiers, each one of them was trained on the same dataset, but with a different word embedding. The first used the original word2vec, and the other was undergone the neutralize-\"debias\" process. We computed the probability estimates for the EEC data twice for each one of the classifiers.\n",
        "\n",
        "\n",
        "**Think about how to evaluate the impact of replacing the word embedding concerning gender bias. Keep in mind that the female and male EEC data is paired!**\n",
        "\n",
        "#### Your analysis can take two points of view (there are more, but you start with that):\n",
        "1. Analyze the difference between the female and male probability estimations for each system *separately* and compare the results.\n",
        "2. Analyze the difference of differences; start with the difference of probability estimations between the paired female and male sentences for each system, and then compare the two differences.\n",
        "\n",
        "\n",
        "#### Few possible ideas of what to do:\n",
        "1. Plot distributions  ([`seaborn.displot`](https://seaborn.pydata.org/generated/seaborn.displot.html#seaborn.displot))\n",
        "2. Compute the [effect size](https://en.wikipedia.org/wiki/Effect_size#Cohen's_d)\n",
        "3. Perform statistical hypothesis testings to check whether means are eqaul using the independenet t-test ([`scipy.stats.ttest_rel`])"
      ]
    },
    {
      "cell_type": "code",
      "source": [
        "# Your Code Here..."
      ],
      "metadata": {
        "id": "gaAk-AMFWzHx"
      },
      "execution_count": null,
      "outputs": []
    },
    {
      "cell_type": "markdown",
      "source": [
        "#### What is your conclusion? What would be your next steps?\n"
      ],
      "metadata": {
        "id": "StTjFXNOW2GB"
      }
    },
    {
      "cell_type": "markdown",
      "metadata": {
        "id": "VsnVe19mFSHl"
      },
      "source": [
        "# Part Thirteen: Takeaways\n",
        "<big>💎💎</big>\n",
        "\n",
        "1. Text, as long as it's large enough, contains human-like bias;\n",
        "2. Through natural language processing, bias can be quantified."
      ]
    },
    {
      "cell_type": "markdown",
      "metadata": {
        "id": "dqSvbe2sC3vd"
      },
      "source": [
        "# Part Fourteen: Resources\n",
        "<big>💎💎</big>\n"
      ]
    }
  ],
  "metadata": {
    "colab": {
      "provenance": [],
      "include_colab_link": true
    },
    "kernelspec": {
      "display_name": "Python 3",
      "language": "python",
      "name": "python3"
    },
    "language_info": {
      "codemirror_mode": {
        "name": "ipython",
        "version": 3
      },
      "file_extension": ".py",
      "mimetype": "text/x-python",
      "name": "python",
      "nbconvert_exporter": "python",
      "pygments_lexer": "ipython3",
      "version": "3.8.3"
    }
  },
  "nbformat": 4,
  "nbformat_minor": 0
}